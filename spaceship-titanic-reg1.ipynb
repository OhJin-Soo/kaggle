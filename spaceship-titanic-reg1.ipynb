{
 "cells": [
  {
   "cell_type": "code",
   "execution_count": 1,
   "id": "2c85ee88",
   "metadata": {
    "_cell_guid": "b1076dfc-b9ad-4769-8c92-a6c4dae69d19",
    "_uuid": "8f2839f25d086af736a60e9eeb907d3b93b6e0e5",
    "editable": false,
    "execution": {
     "iopub.execute_input": "2025-07-17T02:28:24.961316Z",
     "iopub.status.busy": "2025-07-17T02:28:24.960912Z",
     "iopub.status.idle": "2025-07-17T02:28:29.913161Z",
     "shell.execute_reply": "2025-07-17T02:28:29.912166Z"
    },
    "papermill": {
     "duration": 4.963435,
     "end_time": "2025-07-17T02:28:29.914856",
     "exception": false,
     "start_time": "2025-07-17T02:28:24.951421",
     "status": "completed"
    },
    "tags": []
   },
   "outputs": [
    {
     "name": "stdout",
     "output_type": "stream",
     "text": [
      "/kaggle/input/spaceship-titanic/sample_submission.csv\n",
      "/kaggle/input/spaceship-titanic/train.csv\n",
      "/kaggle/input/spaceship-titanic/test.csv\n"
     ]
    }
   ],
   "source": [
    "# This Python 3 environment comes with many helpful analytics libraries installed\n",
    "# It is defined by the kaggle/python Docker image: https://github.com/kaggle/docker-python\n",
    "# For example, here's several helpful packages to load\n",
    "\n",
    "import numpy as np # linear algebra\n",
    "import pandas as pd # data processing, CSV file I/O (e.g. pd.read_csv)\n",
    "import seaborn as sns\n",
    "import matplotlib.pyplot as plt\n",
    "sns.set_style(\"darkgrid\")\n",
    "from statsmodels.stats.outliers_influence import variance_inflation_factor\n",
    "from sklearn.impute import SimpleImputer\n",
    "\n",
    "# Input data files are available in the read-only \"../input/\" directory\n",
    "# For example, running this (by clicking run or pressing Shift+Enter) will list all files under the input directory\n",
    "\n",
    "import os\n",
    "for dirname, _, filenames in os.walk('/kaggle/input'):\n",
    "    for filename in filenames:\n",
    "        print(os.path.join(dirname, filename))\n",
    "\n",
    "# You can write up to 20GB to the current directory (/kaggle/working/) that gets preserved as output when you create a version using \"Save & Run All\" \n",
    "# You can also write temporary files to /kaggle/temp/, but they won't be saved outside of the current session"
   ]
  },
  {
   "cell_type": "code",
   "execution_count": 2,
   "id": "ac20a87a",
   "metadata": {
    "editable": false,
    "execution": {
     "iopub.execute_input": "2025-07-17T02:28:29.930560Z",
     "iopub.status.busy": "2025-07-17T02:28:29.929650Z",
     "iopub.status.idle": "2025-07-17T02:28:30.043016Z",
     "shell.execute_reply": "2025-07-17T02:28:30.042070Z"
    },
    "papermill": {
     "duration": 0.122484,
     "end_time": "2025-07-17T02:28:30.044528",
     "exception": false,
     "start_time": "2025-07-17T02:28:29.922044",
     "status": "completed"
    },
    "tags": []
   },
   "outputs": [
    {
     "name": "stdout",
     "output_type": "stream",
     "text": [
      "train : (8693, 14)\n",
      "test : (4277, 13)\n"
     ]
    },
    {
     "data": {
      "text/html": [
       "<div>\n",
       "<style scoped>\n",
       "    .dataframe tbody tr th:only-of-type {\n",
       "        vertical-align: middle;\n",
       "    }\n",
       "\n",
       "    .dataframe tbody tr th {\n",
       "        vertical-align: top;\n",
       "    }\n",
       "\n",
       "    .dataframe thead th {\n",
       "        text-align: right;\n",
       "    }\n",
       "</style>\n",
       "<table border=\"1\" class=\"dataframe\">\n",
       "  <thead>\n",
       "    <tr style=\"text-align: right;\">\n",
       "      <th></th>\n",
       "      <th>PassengerId</th>\n",
       "      <th>HomePlanet</th>\n",
       "      <th>CryoSleep</th>\n",
       "      <th>Cabin</th>\n",
       "      <th>Destination</th>\n",
       "      <th>Age</th>\n",
       "      <th>VIP</th>\n",
       "      <th>RoomService</th>\n",
       "      <th>FoodCourt</th>\n",
       "      <th>ShoppingMall</th>\n",
       "      <th>Spa</th>\n",
       "      <th>VRDeck</th>\n",
       "      <th>Name</th>\n",
       "      <th>Transported</th>\n",
       "    </tr>\n",
       "  </thead>\n",
       "  <tbody>\n",
       "    <tr>\n",
       "      <th>0</th>\n",
       "      <td>0001_01</td>\n",
       "      <td>Europa</td>\n",
       "      <td>False</td>\n",
       "      <td>B/0/P</td>\n",
       "      <td>TRAPPIST-1e</td>\n",
       "      <td>39.0</td>\n",
       "      <td>False</td>\n",
       "      <td>0.0</td>\n",
       "      <td>0.0</td>\n",
       "      <td>0.0</td>\n",
       "      <td>0.0</td>\n",
       "      <td>0.0</td>\n",
       "      <td>Maham Ofracculy</td>\n",
       "      <td>False</td>\n",
       "    </tr>\n",
       "    <tr>\n",
       "      <th>1</th>\n",
       "      <td>0002_01</td>\n",
       "      <td>Earth</td>\n",
       "      <td>False</td>\n",
       "      <td>F/0/S</td>\n",
       "      <td>TRAPPIST-1e</td>\n",
       "      <td>24.0</td>\n",
       "      <td>False</td>\n",
       "      <td>109.0</td>\n",
       "      <td>9.0</td>\n",
       "      <td>25.0</td>\n",
       "      <td>549.0</td>\n",
       "      <td>44.0</td>\n",
       "      <td>Juanna Vines</td>\n",
       "      <td>True</td>\n",
       "    </tr>\n",
       "    <tr>\n",
       "      <th>2</th>\n",
       "      <td>0003_01</td>\n",
       "      <td>Europa</td>\n",
       "      <td>False</td>\n",
       "      <td>A/0/S</td>\n",
       "      <td>TRAPPIST-1e</td>\n",
       "      <td>58.0</td>\n",
       "      <td>True</td>\n",
       "      <td>43.0</td>\n",
       "      <td>3576.0</td>\n",
       "      <td>0.0</td>\n",
       "      <td>6715.0</td>\n",
       "      <td>49.0</td>\n",
       "      <td>Altark Susent</td>\n",
       "      <td>False</td>\n",
       "    </tr>\n",
       "    <tr>\n",
       "      <th>3</th>\n",
       "      <td>0003_02</td>\n",
       "      <td>Europa</td>\n",
       "      <td>False</td>\n",
       "      <td>A/0/S</td>\n",
       "      <td>TRAPPIST-1e</td>\n",
       "      <td>33.0</td>\n",
       "      <td>False</td>\n",
       "      <td>0.0</td>\n",
       "      <td>1283.0</td>\n",
       "      <td>371.0</td>\n",
       "      <td>3329.0</td>\n",
       "      <td>193.0</td>\n",
       "      <td>Solam Susent</td>\n",
       "      <td>False</td>\n",
       "    </tr>\n",
       "    <tr>\n",
       "      <th>4</th>\n",
       "      <td>0004_01</td>\n",
       "      <td>Earth</td>\n",
       "      <td>False</td>\n",
       "      <td>F/1/S</td>\n",
       "      <td>TRAPPIST-1e</td>\n",
       "      <td>16.0</td>\n",
       "      <td>False</td>\n",
       "      <td>303.0</td>\n",
       "      <td>70.0</td>\n",
       "      <td>151.0</td>\n",
       "      <td>565.0</td>\n",
       "      <td>2.0</td>\n",
       "      <td>Willy Santantines</td>\n",
       "      <td>True</td>\n",
       "    </tr>\n",
       "  </tbody>\n",
       "</table>\n",
       "</div>"
      ],
      "text/plain": [
       "  PassengerId HomePlanet CryoSleep  Cabin  Destination   Age    VIP  \\\n",
       "0     0001_01     Europa     False  B/0/P  TRAPPIST-1e  39.0  False   \n",
       "1     0002_01      Earth     False  F/0/S  TRAPPIST-1e  24.0  False   \n",
       "2     0003_01     Europa     False  A/0/S  TRAPPIST-1e  58.0   True   \n",
       "3     0003_02     Europa     False  A/0/S  TRAPPIST-1e  33.0  False   \n",
       "4     0004_01      Earth     False  F/1/S  TRAPPIST-1e  16.0  False   \n",
       "\n",
       "   RoomService  FoodCourt  ShoppingMall     Spa  VRDeck               Name  \\\n",
       "0          0.0        0.0           0.0     0.0     0.0    Maham Ofracculy   \n",
       "1        109.0        9.0          25.0   549.0    44.0       Juanna Vines   \n",
       "2         43.0     3576.0           0.0  6715.0    49.0      Altark Susent   \n",
       "3          0.0     1283.0         371.0  3329.0   193.0       Solam Susent   \n",
       "4        303.0       70.0         151.0   565.0     2.0  Willy Santantines   \n",
       "\n",
       "   Transported  \n",
       "0        False  \n",
       "1         True  \n",
       "2        False  \n",
       "3        False  \n",
       "4         True  "
      ]
     },
     "execution_count": 2,
     "metadata": {},
     "output_type": "execute_result"
    }
   ],
   "source": [
    "train = pd.read_csv(\"/kaggle/input/spaceship-titanic/train.csv\")\n",
    "test = pd.read_csv(\"/kaggle/input/spaceship-titanic/test.csv\")\n",
    "\n",
    "print(\"train :\", train.shape)\n",
    "print(\"test :\", test.shape)\n",
    "train.head()"
   ]
  },
  {
   "cell_type": "code",
   "execution_count": 3,
   "id": "fc9e3a60",
   "metadata": {
    "execution": {
     "iopub.execute_input": "2025-07-17T02:28:30.060624Z",
     "iopub.status.busy": "2025-07-17T02:28:30.059761Z",
     "iopub.status.idle": "2025-07-17T02:28:30.089908Z",
     "shell.execute_reply": "2025-07-17T02:28:30.088779Z"
    },
    "papermill": {
     "duration": 0.039706,
     "end_time": "2025-07-17T02:28:30.091538",
     "exception": false,
     "start_time": "2025-07-17T02:28:30.051832",
     "status": "completed"
    },
    "tags": []
   },
   "outputs": [
    {
     "name": "stdout",
     "output_type": "stream",
     "text": [
      "<class 'pandas.core.frame.DataFrame'>\n",
      "RangeIndex: 8693 entries, 0 to 8692\n",
      "Data columns (total 14 columns):\n",
      " #   Column        Non-Null Count  Dtype  \n",
      "---  ------        --------------  -----  \n",
      " 0   PassengerId   8693 non-null   object \n",
      " 1   HomePlanet    8492 non-null   object \n",
      " 2   CryoSleep     8476 non-null   object \n",
      " 3   Cabin         8494 non-null   object \n",
      " 4   Destination   8511 non-null   object \n",
      " 5   Age           8514 non-null   float64\n",
      " 6   VIP           8490 non-null   object \n",
      " 7   RoomService   8512 non-null   float64\n",
      " 8   FoodCourt     8510 non-null   float64\n",
      " 9   ShoppingMall  8485 non-null   float64\n",
      " 10  Spa           8510 non-null   float64\n",
      " 11  VRDeck        8505 non-null   float64\n",
      " 12  Name          8493 non-null   object \n",
      " 13  Transported   8693 non-null   bool   \n",
      "dtypes: bool(1), float64(6), object(7)\n",
      "memory usage: 891.5+ KB\n"
     ]
    }
   ],
   "source": [
    "train.info()"
   ]
  },
  {
   "cell_type": "code",
   "execution_count": 4,
   "id": "cef1d93e",
   "metadata": {
    "execution": {
     "iopub.execute_input": "2025-07-17T02:28:30.108708Z",
     "iopub.status.busy": "2025-07-17T02:28:30.108392Z",
     "iopub.status.idle": "2025-07-17T02:28:30.122271Z",
     "shell.execute_reply": "2025-07-17T02:28:30.121254Z"
    },
    "papermill": {
     "duration": 0.023773,
     "end_time": "2025-07-17T02:28:30.123760",
     "exception": false,
     "start_time": "2025-07-17T02:28:30.099987",
     "status": "completed"
    },
    "tags": []
   },
   "outputs": [
    {
     "name": "stdout",
     "output_type": "stream",
     "text": [
      "<class 'pandas.core.frame.DataFrame'>\n",
      "RangeIndex: 4277 entries, 0 to 4276\n",
      "Data columns (total 13 columns):\n",
      " #   Column        Non-Null Count  Dtype  \n",
      "---  ------        --------------  -----  \n",
      " 0   PassengerId   4277 non-null   object \n",
      " 1   HomePlanet    4190 non-null   object \n",
      " 2   CryoSleep     4184 non-null   object \n",
      " 3   Cabin         4177 non-null   object \n",
      " 4   Destination   4185 non-null   object \n",
      " 5   Age           4186 non-null   float64\n",
      " 6   VIP           4184 non-null   object \n",
      " 7   RoomService   4195 non-null   float64\n",
      " 8   FoodCourt     4171 non-null   float64\n",
      " 9   ShoppingMall  4179 non-null   float64\n",
      " 10  Spa           4176 non-null   float64\n",
      " 11  VRDeck        4197 non-null   float64\n",
      " 12  Name          4183 non-null   object \n",
      "dtypes: float64(6), object(7)\n",
      "memory usage: 434.5+ KB\n"
     ]
    }
   ],
   "source": [
    "test.info()"
   ]
  },
  {
   "cell_type": "code",
   "execution_count": 5,
   "id": "7bc2f831",
   "metadata": {
    "execution": {
     "iopub.execute_input": "2025-07-17T02:28:30.139690Z",
     "iopub.status.busy": "2025-07-17T02:28:30.139398Z",
     "iopub.status.idle": "2025-07-17T02:28:30.174230Z",
     "shell.execute_reply": "2025-07-17T02:28:30.173169Z"
    },
    "papermill": {
     "duration": 0.044533,
     "end_time": "2025-07-17T02:28:30.175801",
     "exception": false,
     "start_time": "2025-07-17T02:28:30.131268",
     "status": "completed"
    },
    "tags": []
   },
   "outputs": [
    {
     "name": "stderr",
     "output_type": "stream",
     "text": [
      "/tmp/ipykernel_14/2676156869.py:8: FutureWarning: Downcasting object dtype arrays on .fillna, .ffill, .bfill is deprecated and will change in a future version. Call result.infer_objects(copy=False) instead. To opt-in to the future behavior, set `pd.set_option('future.no_silent_downcasting', True)`\n",
      "  df[col] = df[col].fillna(df[col].mode()[0])\n"
     ]
    }
   ],
   "source": [
    "# 수치형은 평균으로 대체\n",
    "for df in [train,test]:    \n",
    "    for col in ['Age', 'RoomService', 'FoodCourt', 'ShoppingMall', 'Spa', 'VRDeck']:\n",
    "        df[col] = df[col].fillna(df[col].median())\n",
    "\n",
    "# 범주형은 최빈값으로 대체\n",
    "    for col in ['HomePlanet', 'CryoSleep', 'Cabin', 'Destination', 'VIP', 'Name']:\n",
    "        df[col] = df[col].fillna(df[col].mode()[0])\n"
   ]
  },
  {
   "cell_type": "code",
   "execution_count": 6,
   "id": "79cbd649",
   "metadata": {
    "execution": {
     "iopub.execute_input": "2025-07-17T02:28:30.191676Z",
     "iopub.status.busy": "2025-07-17T02:28:30.191371Z",
     "iopub.status.idle": "2025-07-17T02:28:30.204730Z",
     "shell.execute_reply": "2025-07-17T02:28:30.203605Z"
    },
    "papermill": {
     "duration": 0.023227,
     "end_time": "2025-07-17T02:28:30.206325",
     "exception": false,
     "start_time": "2025-07-17T02:28:30.183098",
     "status": "completed"
    },
    "tags": []
   },
   "outputs": [
    {
     "name": "stdout",
     "output_type": "stream",
     "text": [
      "<class 'pandas.core.frame.DataFrame'>\n",
      "RangeIndex: 8693 entries, 0 to 8692\n",
      "Data columns (total 14 columns):\n",
      " #   Column        Non-Null Count  Dtype  \n",
      "---  ------        --------------  -----  \n",
      " 0   PassengerId   8693 non-null   object \n",
      " 1   HomePlanet    8693 non-null   object \n",
      " 2   CryoSleep     8693 non-null   bool   \n",
      " 3   Cabin         8693 non-null   object \n",
      " 4   Destination   8693 non-null   object \n",
      " 5   Age           8693 non-null   float64\n",
      " 6   VIP           8693 non-null   bool   \n",
      " 7   RoomService   8693 non-null   float64\n",
      " 8   FoodCourt     8693 non-null   float64\n",
      " 9   ShoppingMall  8693 non-null   float64\n",
      " 10  Spa           8693 non-null   float64\n",
      " 11  VRDeck        8693 non-null   float64\n",
      " 12  Name          8693 non-null   object \n",
      " 13  Transported   8693 non-null   bool   \n",
      "dtypes: bool(3), float64(6), object(5)\n",
      "memory usage: 772.7+ KB\n"
     ]
    }
   ],
   "source": [
    "train.info()"
   ]
  },
  {
   "cell_type": "code",
   "execution_count": 7,
   "id": "7627b779",
   "metadata": {
    "execution": {
     "iopub.execute_input": "2025-07-17T02:28:30.222817Z",
     "iopub.status.busy": "2025-07-17T02:28:30.222513Z",
     "iopub.status.idle": "2025-07-17T02:28:30.234064Z",
     "shell.execute_reply": "2025-07-17T02:28:30.233097Z"
    },
    "papermill": {
     "duration": 0.02151,
     "end_time": "2025-07-17T02:28:30.235545",
     "exception": false,
     "start_time": "2025-07-17T02:28:30.214035",
     "status": "completed"
    },
    "tags": []
   },
   "outputs": [
    {
     "name": "stdout",
     "output_type": "stream",
     "text": [
      "<class 'pandas.core.frame.DataFrame'>\n",
      "RangeIndex: 4277 entries, 0 to 4276\n",
      "Data columns (total 13 columns):\n",
      " #   Column        Non-Null Count  Dtype  \n",
      "---  ------        --------------  -----  \n",
      " 0   PassengerId   4277 non-null   object \n",
      " 1   HomePlanet    4277 non-null   object \n",
      " 2   CryoSleep     4277 non-null   bool   \n",
      " 3   Cabin         4277 non-null   object \n",
      " 4   Destination   4277 non-null   object \n",
      " 5   Age           4277 non-null   float64\n",
      " 6   VIP           4277 non-null   bool   \n",
      " 7   RoomService   4277 non-null   float64\n",
      " 8   FoodCourt     4277 non-null   float64\n",
      " 9   ShoppingMall  4277 non-null   float64\n",
      " 10  Spa           4277 non-null   float64\n",
      " 11  VRDeck        4277 non-null   float64\n",
      " 12  Name          4277 non-null   object \n",
      "dtypes: bool(2), float64(6), object(5)\n",
      "memory usage: 376.0+ KB\n"
     ]
    }
   ],
   "source": [
    "test.info()"
   ]
  },
  {
   "cell_type": "code",
   "execution_count": 8,
   "id": "73762ce5",
   "metadata": {
    "editable": false,
    "execution": {
     "iopub.execute_input": "2025-07-17T02:28:30.251547Z",
     "iopub.status.busy": "2025-07-17T02:28:30.250865Z",
     "iopub.status.idle": "2025-07-17T02:28:30.262741Z",
     "shell.execute_reply": "2025-07-17T02:28:30.261827Z"
    },
    "papermill": {
     "duration": 0.021408,
     "end_time": "2025-07-17T02:28:30.264257",
     "exception": false,
     "start_time": "2025-07-17T02:28:30.242849",
     "status": "completed"
    },
    "tags": []
   },
   "outputs": [],
   "source": [
    "X = pd.concat([train.drop(\"Transported\", axis=1),test],axis=0)\n",
    "y = train[[\"Transported\"]]"
   ]
  },
  {
   "cell_type": "code",
   "execution_count": 9,
   "id": "e2c07ecc",
   "metadata": {
    "execution": {
     "iopub.execute_input": "2025-07-17T02:28:30.280176Z",
     "iopub.status.busy": "2025-07-17T02:28:30.279858Z",
     "iopub.status.idle": "2025-07-17T02:28:30.301389Z",
     "shell.execute_reply": "2025-07-17T02:28:30.300571Z"
    },
    "papermill": {
     "duration": 0.031687,
     "end_time": "2025-07-17T02:28:30.303255",
     "exception": false,
     "start_time": "2025-07-17T02:28:30.271568",
     "status": "completed"
    },
    "tags": []
   },
   "outputs": [],
   "source": [
    "split = X[\"PassengerId\"].apply(lambda x: x.split(\"_\"))\n",
    "X[\"Idgrp\"] = split.map(lambda x: x[1])\n",
    "X[\"PassengerId of Idgrp\"] = split.map(lambda x: x[0])"
   ]
  },
  {
   "cell_type": "code",
   "execution_count": 10,
   "id": "1ee59cfa",
   "metadata": {
    "execution": {
     "iopub.execute_input": "2025-07-17T02:28:30.319314Z",
     "iopub.status.busy": "2025-07-17T02:28:30.318948Z",
     "iopub.status.idle": "2025-07-17T02:28:30.334025Z",
     "shell.execute_reply": "2025-07-17T02:28:30.333017Z"
    },
    "papermill": {
     "duration": 0.024991,
     "end_time": "2025-07-17T02:28:30.335685",
     "exception": false,
     "start_time": "2025-07-17T02:28:30.310694",
     "status": "completed"
    },
    "tags": []
   },
   "outputs": [
    {
     "name": "stdout",
     "output_type": "stream",
     "text": [
      "<class 'pandas.core.frame.DataFrame'>\n",
      "Index: 12970 entries, 0 to 4276\n",
      "Data columns (total 15 columns):\n",
      " #   Column                Non-Null Count  Dtype  \n",
      "---  ------                --------------  -----  \n",
      " 0   PassengerId           12970 non-null  object \n",
      " 1   HomePlanet            12970 non-null  object \n",
      " 2   CryoSleep             12970 non-null  bool   \n",
      " 3   Cabin                 12970 non-null  object \n",
      " 4   Destination           12970 non-null  object \n",
      " 5   Age                   12970 non-null  float64\n",
      " 6   VIP                   12970 non-null  bool   \n",
      " 7   RoomService           12970 non-null  float64\n",
      " 8   FoodCourt             12970 non-null  float64\n",
      " 9   ShoppingMall          12970 non-null  float64\n",
      " 10  Spa                   12970 non-null  float64\n",
      " 11  VRDeck                12970 non-null  float64\n",
      " 12  Name                  12970 non-null  object \n",
      " 13  Idgrp                 12970 non-null  object \n",
      " 14  PassengerId of Idgrp  12970 non-null  object \n",
      "dtypes: bool(2), float64(6), object(7)\n",
      "memory usage: 1.4+ MB\n"
     ]
    }
   ],
   "source": [
    "X.info()"
   ]
  },
  {
   "cell_type": "code",
   "execution_count": 11,
   "id": "45c12f97",
   "metadata": {
    "execution": {
     "iopub.execute_input": "2025-07-17T02:28:30.352225Z",
     "iopub.status.busy": "2025-07-17T02:28:30.351629Z",
     "iopub.status.idle": "2025-07-17T02:28:30.367851Z",
     "shell.execute_reply": "2025-07-17T02:28:30.367014Z"
    },
    "papermill": {
     "duration": 0.025872,
     "end_time": "2025-07-17T02:28:30.369279",
     "exception": false,
     "start_time": "2025-07-17T02:28:30.343407",
     "status": "completed"
    },
    "tags": []
   },
   "outputs": [
    {
     "data": {
      "text/html": [
       "<div>\n",
       "<style scoped>\n",
       "    .dataframe tbody tr th:only-of-type {\n",
       "        vertical-align: middle;\n",
       "    }\n",
       "\n",
       "    .dataframe tbody tr th {\n",
       "        vertical-align: top;\n",
       "    }\n",
       "\n",
       "    .dataframe thead th {\n",
       "        text-align: right;\n",
       "    }\n",
       "</style>\n",
       "<table border=\"1\" class=\"dataframe\">\n",
       "  <thead>\n",
       "    <tr style=\"text-align: right;\">\n",
       "      <th></th>\n",
       "      <th>PassengerId</th>\n",
       "      <th>HomePlanet</th>\n",
       "      <th>CryoSleep</th>\n",
       "      <th>Cabin</th>\n",
       "      <th>Destination</th>\n",
       "      <th>Age</th>\n",
       "      <th>VIP</th>\n",
       "      <th>RoomService</th>\n",
       "      <th>FoodCourt</th>\n",
       "      <th>ShoppingMall</th>\n",
       "      <th>Spa</th>\n",
       "      <th>VRDeck</th>\n",
       "      <th>Name</th>\n",
       "      <th>Idgrp</th>\n",
       "      <th>PassengerId of Idgrp</th>\n",
       "    </tr>\n",
       "  </thead>\n",
       "  <tbody>\n",
       "    <tr>\n",
       "      <th>0</th>\n",
       "      <td>0001_01</td>\n",
       "      <td>Europa</td>\n",
       "      <td>False</td>\n",
       "      <td>B/0/P</td>\n",
       "      <td>TRAPPIST-1e</td>\n",
       "      <td>39.0</td>\n",
       "      <td>False</td>\n",
       "      <td>0.0</td>\n",
       "      <td>0.0</td>\n",
       "      <td>0.0</td>\n",
       "      <td>0.0</td>\n",
       "      <td>0.0</td>\n",
       "      <td>Maham Ofracculy</td>\n",
       "      <td>01</td>\n",
       "      <td>0001</td>\n",
       "    </tr>\n",
       "    <tr>\n",
       "      <th>1</th>\n",
       "      <td>0002_01</td>\n",
       "      <td>Earth</td>\n",
       "      <td>False</td>\n",
       "      <td>F/0/S</td>\n",
       "      <td>TRAPPIST-1e</td>\n",
       "      <td>24.0</td>\n",
       "      <td>False</td>\n",
       "      <td>109.0</td>\n",
       "      <td>9.0</td>\n",
       "      <td>25.0</td>\n",
       "      <td>549.0</td>\n",
       "      <td>44.0</td>\n",
       "      <td>Juanna Vines</td>\n",
       "      <td>01</td>\n",
       "      <td>0002</td>\n",
       "    </tr>\n",
       "    <tr>\n",
       "      <th>2</th>\n",
       "      <td>0003_01</td>\n",
       "      <td>Europa</td>\n",
       "      <td>False</td>\n",
       "      <td>A/0/S</td>\n",
       "      <td>TRAPPIST-1e</td>\n",
       "      <td>58.0</td>\n",
       "      <td>True</td>\n",
       "      <td>43.0</td>\n",
       "      <td>3576.0</td>\n",
       "      <td>0.0</td>\n",
       "      <td>6715.0</td>\n",
       "      <td>49.0</td>\n",
       "      <td>Altark Susent</td>\n",
       "      <td>01</td>\n",
       "      <td>0003</td>\n",
       "    </tr>\n",
       "    <tr>\n",
       "      <th>3</th>\n",
       "      <td>0003_02</td>\n",
       "      <td>Europa</td>\n",
       "      <td>False</td>\n",
       "      <td>A/0/S</td>\n",
       "      <td>TRAPPIST-1e</td>\n",
       "      <td>33.0</td>\n",
       "      <td>False</td>\n",
       "      <td>0.0</td>\n",
       "      <td>1283.0</td>\n",
       "      <td>371.0</td>\n",
       "      <td>3329.0</td>\n",
       "      <td>193.0</td>\n",
       "      <td>Solam Susent</td>\n",
       "      <td>02</td>\n",
       "      <td>0003</td>\n",
       "    </tr>\n",
       "    <tr>\n",
       "      <th>4</th>\n",
       "      <td>0004_01</td>\n",
       "      <td>Earth</td>\n",
       "      <td>False</td>\n",
       "      <td>F/1/S</td>\n",
       "      <td>TRAPPIST-1e</td>\n",
       "      <td>16.0</td>\n",
       "      <td>False</td>\n",
       "      <td>303.0</td>\n",
       "      <td>70.0</td>\n",
       "      <td>151.0</td>\n",
       "      <td>565.0</td>\n",
       "      <td>2.0</td>\n",
       "      <td>Willy Santantines</td>\n",
       "      <td>01</td>\n",
       "      <td>0004</td>\n",
       "    </tr>\n",
       "  </tbody>\n",
       "</table>\n",
       "</div>"
      ],
      "text/plain": [
       "  PassengerId HomePlanet  CryoSleep  Cabin  Destination   Age    VIP  \\\n",
       "0     0001_01     Europa      False  B/0/P  TRAPPIST-1e  39.0  False   \n",
       "1     0002_01      Earth      False  F/0/S  TRAPPIST-1e  24.0  False   \n",
       "2     0003_01     Europa      False  A/0/S  TRAPPIST-1e  58.0   True   \n",
       "3     0003_02     Europa      False  A/0/S  TRAPPIST-1e  33.0  False   \n",
       "4     0004_01      Earth      False  F/1/S  TRAPPIST-1e  16.0  False   \n",
       "\n",
       "   RoomService  FoodCourt  ShoppingMall     Spa  VRDeck               Name  \\\n",
       "0          0.0        0.0           0.0     0.0     0.0    Maham Ofracculy   \n",
       "1        109.0        9.0          25.0   549.0    44.0       Juanna Vines   \n",
       "2         43.0     3576.0           0.0  6715.0    49.0      Altark Susent   \n",
       "3          0.0     1283.0         371.0  3329.0   193.0       Solam Susent   \n",
       "4        303.0       70.0         151.0   565.0     2.0  Willy Santantines   \n",
       "\n",
       "  Idgrp PassengerId of Idgrp  \n",
       "0    01                 0001  \n",
       "1    01                 0002  \n",
       "2    01                 0003  \n",
       "3    02                 0003  \n",
       "4    01                 0004  "
      ]
     },
     "execution_count": 11,
     "metadata": {},
     "output_type": "execute_result"
    }
   ],
   "source": [
    "X.head()"
   ]
  },
  {
   "cell_type": "code",
   "execution_count": 12,
   "id": "4ff47cb3",
   "metadata": {
    "editable": false,
    "execution": {
     "iopub.execute_input": "2025-07-17T02:28:30.386427Z",
     "iopub.status.busy": "2025-07-17T02:28:30.385613Z",
     "iopub.status.idle": "2025-07-17T02:28:30.394275Z",
     "shell.execute_reply": "2025-07-17T02:28:30.393425Z"
    },
    "papermill": {
     "duration": 0.018784,
     "end_time": "2025-07-17T02:28:30.395759",
     "exception": false,
     "start_time": "2025-07-17T02:28:30.376975",
     "status": "completed"
    },
    "tags": []
   },
   "outputs": [
    {
     "data": {
      "text/plain": [
       "Index(['CryoSleep', 'Age', 'VIP', 'RoomService', 'FoodCourt', 'ShoppingMall',\n",
       "       'Spa', 'VRDeck'],\n",
       "      dtype='object')"
      ]
     },
     "execution_count": 12,
     "metadata": {},
     "output_type": "execute_result"
    }
   ],
   "source": [
    "numeric_ = X.select_dtypes(exclude=['object'])\n",
    "numeric_.columns"
   ]
  },
  {
   "cell_type": "code",
   "execution_count": 13,
   "id": "5672e012",
   "metadata": {
    "editable": false,
    "execution": {
     "iopub.execute_input": "2025-07-17T02:28:30.412604Z",
     "iopub.status.busy": "2025-07-17T02:28:30.412249Z",
     "iopub.status.idle": "2025-07-17T02:28:30.424046Z",
     "shell.execute_reply": "2025-07-17T02:28:30.423236Z"
    },
    "papermill": {
     "duration": 0.021956,
     "end_time": "2025-07-17T02:28:30.425517",
     "exception": false,
     "start_time": "2025-07-17T02:28:30.403561",
     "status": "completed"
    },
    "tags": []
   },
   "outputs": [
    {
     "data": {
      "text/plain": [
       "Index(['PassengerId', 'HomePlanet', 'Cabin', 'Destination', 'Name', 'Idgrp',\n",
       "       'PassengerId of Idgrp'],\n",
       "      dtype='object')"
      ]
     },
     "execution_count": 13,
     "metadata": {},
     "output_type": "execute_result"
    }
   ],
   "source": [
    "cat_train = X.select_dtypes(include=['object']).copy()\n",
    "cat_train.columns"
   ]
  },
  {
   "cell_type": "code",
   "execution_count": 14,
   "id": "4b09aa26",
   "metadata": {
    "editable": false,
    "execution": {
     "iopub.execute_input": "2025-07-17T02:28:30.442481Z",
     "iopub.status.busy": "2025-07-17T02:28:30.441855Z",
     "iopub.status.idle": "2025-07-17T02:28:32.883050Z",
     "shell.execute_reply": "2025-07-17T02:28:32.882155Z"
    },
    "papermill": {
     "duration": 2.451803,
     "end_time": "2025-07-17T02:28:32.885036",
     "exception": false,
     "start_time": "2025-07-17T02:28:30.433233",
     "status": "completed"
    },
    "tags": []
   },
   "outputs": [
    {
     "name": "stderr",
     "output_type": "stream",
     "text": [
      "/tmp/ipykernel_14/2745736105.py:4: UserWarning: \n",
      "\n",
      "`distplot` is a deprecated function and will be removed in seaborn v0.14.0.\n",
      "\n",
      "Please adapt your code to use either `displot` (a figure-level function with\n",
      "similar flexibility) or `histplot` (an axes-level function for histograms).\n",
      "\n",
      "For a guide to updating your code to use the new functions, please see\n",
      "https://gist.github.com/mwaskom/de44147ed2974457ad6372750bbe5751\n",
      "\n",
      "  sns.distplot(numeric_.loc[:,col].dropna(), kde=False)\n"
     ]
    },
    {
     "data": {
      "image/png": "[encoded data removed]",
      "text/plain": [
       "<Figure size 1800x1600 with 8 Axes>"
      ]
     },
     "metadata": {},
     "output_type": "display_data"
    }
   ],
   "source": [
    "fig = plt.figure(figsize=(18,16))\n",
    "for index,col in enumerate(numeric_):\n",
    "    plt.subplot(6,4,index+1)\n",
    "    sns.distplot(numeric_.loc[:,col].dropna(), kde=False)\n",
    "fig.tight_layout(pad=1.0)"
   ]
  },
  {
   "cell_type": "code",
   "execution_count": 15,
   "id": "d48abccf",
   "metadata": {
    "editable": false,
    "execution": {
     "iopub.execute_input": "2025-07-17T02:28:32.905109Z",
     "iopub.status.busy": "2025-07-17T02:28:32.904822Z",
     "iopub.status.idle": "2025-07-17T02:28:32.924512Z",
     "shell.execute_reply": "2025-07-17T02:28:32.923188Z"
    },
    "papermill": {
     "duration": 0.031097,
     "end_time": "2025-07-17T02:28:32.925996",
     "exception": false,
     "start_time": "2025-07-17T02:28:32.894899",
     "status": "completed"
    },
    "tags": []
   },
   "outputs": [
    {
     "name": "stdout",
     "output_type": "stream",
     "text": [
      "CryoSleep\n",
      "False    8389\n",
      "True     4581\n",
      "Name: count, dtype: int64\n",
      "\n",
      "\n",
      "Age\n",
      "27.0    565\n",
      "18.0    496\n",
      "26.0    491\n",
      "24.0    482\n",
      "21.0    468\n",
      "       ... \n",
      "75.0      6\n",
      "79.0      5\n",
      "78.0      4\n",
      "77.0      3\n",
      "76.0      2\n",
      "Name: count, Length: 80, dtype: int64\n",
      "\n",
      "\n",
      "VIP\n",
      "False    12697\n",
      "True       273\n",
      "Name: count, dtype: int64\n",
      "\n",
      "\n",
      "RoomService\n",
      "0.0       8566\n",
      "1.0        185\n",
      "2.0        113\n",
      "3.0         89\n",
      "4.0         71\n",
      "          ... \n",
      "263.0        1\n",
      "271.0        1\n",
      "922.0        1\n",
      "3905.0       1\n",
      "652.0        1\n",
      "Name: count, Length: 1578, dtype: int64\n",
      "\n",
      "\n",
      "FoodCourt\n",
      "0.0        8435\n",
      "1.0         175\n",
      "2.0         105\n",
      "4.0          75\n",
      "3.0          74\n",
      "           ... \n",
      "2853.0        1\n",
      "9495.0        1\n",
      "342.0         1\n",
      "11552.0       1\n",
      "601.0         1\n",
      "Name: count, Length: 1953, dtype: int64\n",
      "\n",
      "\n",
      "ShoppingMall\n",
      "0.0       8637\n",
      "1.0        225\n",
      "2.0        112\n",
      "3.0         94\n",
      "4.0         69\n",
      "          ... \n",
      "751.0        1\n",
      "1573.0       1\n",
      "1541.0       1\n",
      "1661.0       1\n",
      "3851.0       1\n",
      "Name: count, Length: 1367, dtype: int64\n",
      "\n",
      "\n",
      "Spa\n",
      "0.0       8219\n",
      "1.0        218\n",
      "2.0        148\n",
      "3.0         82\n",
      "4.0         73\n",
      "          ... \n",
      "971.0        1\n",
      "2290.0       1\n",
      "1450.0       1\n",
      "4517.0       1\n",
      "1812.0       1\n",
      "Name: count, Length: 1679, dtype: int64\n",
      "\n",
      "\n",
      "VRDeck\n",
      "0.0       8520\n",
      "1.0        211\n",
      "2.0        108\n",
      "3.0         89\n",
      "5.0         68\n",
      "          ... \n",
      "395.0        1\n",
      "3186.0       1\n",
      "2519.0       1\n",
      "1652.0       1\n",
      "494.0        1\n",
      "Name: count, Length: 1642, dtype: int64\n",
      "\n",
      "\n"
     ]
    }
   ],
   "source": [
    "for col in numeric_:\n",
    "    print(numeric_[col].value_counts())\n",
    "    print(\"\\n\")"
   ]
  },
  {
   "cell_type": "code",
   "execution_count": 16,
   "id": "c27cd4d7",
   "metadata": {
    "editable": false,
    "execution": {
     "iopub.execute_input": "2025-07-17T02:28:32.945617Z",
     "iopub.status.busy": "2025-07-17T02:28:32.945306Z",
     "iopub.status.idle": "2025-07-17T02:28:32.949278Z",
     "shell.execute_reply": "2025-07-17T02:28:32.948399Z"
    },
    "papermill": {
     "duration": 0.015485,
     "end_time": "2025-07-17T02:28:32.950746",
     "exception": false,
     "start_time": "2025-07-17T02:28:32.935261",
     "status": "completed"
    },
    "tags": []
   },
   "outputs": [],
   "source": [
    "#분할 후에만\n",
    "#train = train.drop(train[train['RoomService'] > 8500].index)\n",
    "#train = train.drop(train[train['FoodCourt'] > 25000].index)\n",
    "#train = train.drop(train[train['ShoppingMall'] > 15000].index)\n",
    "#train = train.drop(train[train['Spa'] > 155000].index)"
   ]
  },
  {
   "cell_type": "code",
   "execution_count": 17,
   "id": "5495f55d",
   "metadata": {
    "editable": false,
    "execution": {
     "iopub.execute_input": "2025-07-17T02:28:32.970622Z",
     "iopub.status.busy": "2025-07-17T02:28:32.970338Z",
     "iopub.status.idle": "2025-07-17T02:28:32.988647Z",
     "shell.execute_reply": "2025-07-17T02:28:32.987699Z"
    },
    "papermill": {
     "duration": 0.029681,
     "end_time": "2025-07-17T02:28:32.990205",
     "exception": false,
     "start_time": "2025-07-17T02:28:32.960524",
     "status": "completed"
    },
    "tags": []
   },
   "outputs": [
    {
     "data": {
      "text/html": [
       "<div>\n",
       "<style scoped>\n",
       "    .dataframe tbody tr th:only-of-type {\n",
       "        vertical-align: middle;\n",
       "    }\n",
       "\n",
       "    .dataframe tbody tr th {\n",
       "        vertical-align: top;\n",
       "    }\n",
       "\n",
       "    .dataframe thead th {\n",
       "        text-align: right;\n",
       "    }\n",
       "</style>\n",
       "<table border=\"1\" class=\"dataframe\">\n",
       "  <thead>\n",
       "    <tr style=\"text-align: right;\">\n",
       "      <th></th>\n",
       "      <th>PassengerId</th>\n",
       "      <th>HomePlanet</th>\n",
       "      <th>CryoSleep</th>\n",
       "      <th>Cabin</th>\n",
       "      <th>Destination</th>\n",
       "      <th>Age</th>\n",
       "      <th>VIP</th>\n",
       "      <th>RoomService</th>\n",
       "      <th>FoodCourt</th>\n",
       "      <th>ShoppingMall</th>\n",
       "      <th>Spa</th>\n",
       "      <th>VRDeck</th>\n",
       "      <th>Name</th>\n",
       "      <th>Idgrp</th>\n",
       "      <th>PassengerId of Idgrp</th>\n",
       "    </tr>\n",
       "  </thead>\n",
       "  <tbody>\n",
       "    <tr>\n",
       "      <th>0</th>\n",
       "      <td>0001_01</td>\n",
       "      <td>Europa</td>\n",
       "      <td>False</td>\n",
       "      <td>B/0/P</td>\n",
       "      <td>TRAPPIST-1e</td>\n",
       "      <td>39.0</td>\n",
       "      <td>False</td>\n",
       "      <td>0.0</td>\n",
       "      <td>0.0</td>\n",
       "      <td>0.0</td>\n",
       "      <td>0.0</td>\n",
       "      <td>0.0</td>\n",
       "      <td>Maham Ofracculy</td>\n",
       "      <td>01</td>\n",
       "      <td>0001</td>\n",
       "    </tr>\n",
       "    <tr>\n",
       "      <th>1</th>\n",
       "      <td>0002_01</td>\n",
       "      <td>Earth</td>\n",
       "      <td>False</td>\n",
       "      <td>F/0/S</td>\n",
       "      <td>TRAPPIST-1e</td>\n",
       "      <td>24.0</td>\n",
       "      <td>False</td>\n",
       "      <td>109.0</td>\n",
       "      <td>9.0</td>\n",
       "      <td>25.0</td>\n",
       "      <td>549.0</td>\n",
       "      <td>44.0</td>\n",
       "      <td>Juanna Vines</td>\n",
       "      <td>01</td>\n",
       "      <td>0002</td>\n",
       "    </tr>\n",
       "    <tr>\n",
       "      <th>2</th>\n",
       "      <td>0003_01</td>\n",
       "      <td>Europa</td>\n",
       "      <td>False</td>\n",
       "      <td>A/0/S</td>\n",
       "      <td>TRAPPIST-1e</td>\n",
       "      <td>58.0</td>\n",
       "      <td>True</td>\n",
       "      <td>43.0</td>\n",
       "      <td>3576.0</td>\n",
       "      <td>0.0</td>\n",
       "      <td>6715.0</td>\n",
       "      <td>49.0</td>\n",
       "      <td>Altark Susent</td>\n",
       "      <td>01</td>\n",
       "      <td>0003</td>\n",
       "    </tr>\n",
       "    <tr>\n",
       "      <th>3</th>\n",
       "      <td>0003_02</td>\n",
       "      <td>Europa</td>\n",
       "      <td>False</td>\n",
       "      <td>A/0/S</td>\n",
       "      <td>TRAPPIST-1e</td>\n",
       "      <td>33.0</td>\n",
       "      <td>False</td>\n",
       "      <td>0.0</td>\n",
       "      <td>1283.0</td>\n",
       "      <td>371.0</td>\n",
       "      <td>3329.0</td>\n",
       "      <td>193.0</td>\n",
       "      <td>Solam Susent</td>\n",
       "      <td>02</td>\n",
       "      <td>0003</td>\n",
       "    </tr>\n",
       "    <tr>\n",
       "      <th>4</th>\n",
       "      <td>0004_01</td>\n",
       "      <td>Earth</td>\n",
       "      <td>False</td>\n",
       "      <td>F/1/S</td>\n",
       "      <td>TRAPPIST-1e</td>\n",
       "      <td>16.0</td>\n",
       "      <td>False</td>\n",
       "      <td>303.0</td>\n",
       "      <td>70.0</td>\n",
       "      <td>151.0</td>\n",
       "      <td>565.0</td>\n",
       "      <td>2.0</td>\n",
       "      <td>Willy Santantines</td>\n",
       "      <td>01</td>\n",
       "      <td>0004</td>\n",
       "    </tr>\n",
       "  </tbody>\n",
       "</table>\n",
       "</div>"
      ],
      "text/plain": [
       "  PassengerId HomePlanet  CryoSleep  Cabin  Destination   Age    VIP  \\\n",
       "0     0001_01     Europa      False  B/0/P  TRAPPIST-1e  39.0  False   \n",
       "1     0002_01      Earth      False  F/0/S  TRAPPIST-1e  24.0  False   \n",
       "2     0003_01     Europa      False  A/0/S  TRAPPIST-1e  58.0   True   \n",
       "3     0003_02     Europa      False  A/0/S  TRAPPIST-1e  33.0  False   \n",
       "4     0004_01      Earth      False  F/1/S  TRAPPIST-1e  16.0  False   \n",
       "\n",
       "   RoomService  FoodCourt  ShoppingMall     Spa  VRDeck               Name  \\\n",
       "0          0.0        0.0           0.0     0.0     0.0    Maham Ofracculy   \n",
       "1        109.0        9.0          25.0   549.0    44.0       Juanna Vines   \n",
       "2         43.0     3576.0           0.0  6715.0    49.0      Altark Susent   \n",
       "3          0.0     1283.0         371.0  3329.0   193.0       Solam Susent   \n",
       "4        303.0       70.0         151.0   565.0     2.0  Willy Santantines   \n",
       "\n",
       "  Idgrp PassengerId of Idgrp  \n",
       "0    01                 0001  \n",
       "1    01                 0002  \n",
       "2    01                 0003  \n",
       "3    02                 0003  \n",
       "4    01                 0004  "
      ]
     },
     "execution_count": 17,
     "metadata": {},
     "output_type": "execute_result"
    }
   ],
   "source": [
    "X.head()"
   ]
  },
  {
   "cell_type": "code",
   "execution_count": 18,
   "id": "aa4db4ce",
   "metadata": {
    "editable": false,
    "execution": {
     "iopub.execute_input": "2025-07-17T02:28:33.010612Z",
     "iopub.status.busy": "2025-07-17T02:28:33.010299Z",
     "iopub.status.idle": "2025-07-17T02:28:33.043193Z",
     "shell.execute_reply": "2025-07-17T02:28:33.042095Z"
    },
    "papermill": {
     "duration": 0.045283,
     "end_time": "2025-07-17T02:28:33.044954",
     "exception": false,
     "start_time": "2025-07-17T02:28:32.999671",
     "status": "completed"
    },
    "tags": []
   },
   "outputs": [
    {
     "name": "stdout",
     "output_type": "stream",
     "text": [
      "PassengerId\n",
      "0001_01    1\n",
      "9227_03    1\n",
      "9220_01    1\n",
      "9220_02    1\n",
      "9220_03    1\n",
      "          ..\n",
      "4610_01    1\n",
      "4611_01    1\n",
      "4612_01    1\n",
      "4613_01    1\n",
      "9277_01    1\n",
      "Name: count, Length: 12970, dtype: int64\n",
      "\n",
      "\n",
      "HomePlanet\n",
      "Earth     7153\n",
      "Europa    3133\n",
      "Mars      2684\n",
      "Name: count, dtype: int64\n",
      "\n",
      "\n",
      "Cabin\n",
      "G/734/S     207\n",
      "G/160/P     108\n",
      "C/21/P        7\n",
      "G/748/S       7\n",
      "D/273/S       7\n",
      "           ... \n",
      "E/317/P       1\n",
      "F/1039/P      1\n",
      "F/1038/P      1\n",
      "C/158/P       1\n",
      "G/1498/S      1\n",
      "Name: count, Length: 9825, dtype: int64\n",
      "\n",
      "\n",
      "Destination\n",
      "TRAPPIST-1e      9145\n",
      "55 Cancri e      2641\n",
      "PSO J318.5-22    1184\n",
      "Name: count, dtype: int64\n",
      "\n",
      "\n",
      "Name\n",
      "Alraium Disivering    202\n",
      "Berta Barnolderg       96\n",
      "Carry Contrevins        2\n",
      "Ankalik Nateansive      2\n",
      "Gabria Batestonley      2\n",
      "                     ... \n",
      "Sadrix Repumparte       1\n",
      "Giamon Gelle            1\n",
      "Mothab Ineedeve         1\n",
      "Naosa Ineedeve          1\n",
      "Lilace Leonzaley        1\n",
      "Name: count, Length: 12629, dtype: int64\n",
      "\n",
      "\n",
      "Idgrp\n",
      "01    9280\n",
      "02    2135\n",
      "03     840\n",
      "04     338\n",
      "05     184\n",
      "06     108\n",
      "07      66\n",
      "08      19\n",
      "Name: count, dtype: int64\n",
      "\n",
      "\n",
      "PassengerId of Idgrp\n",
      "6499    8\n",
      "8728    8\n",
      "0984    8\n",
      "4256    8\n",
      "6986    8\n",
      "       ..\n",
      "5190    1\n",
      "5187    1\n",
      "5186    1\n",
      "5185    1\n",
      "9277    1\n",
      "Name: count, Length: 9280, dtype: int64\n",
      "\n",
      "\n"
     ]
    }
   ],
   "source": [
    "for col in cat_train:\n",
    "    print(cat_train[col].value_counts())\n",
    "    print(\"\\n\")"
   ]
  },
  {
   "cell_type": "code",
   "execution_count": 19,
   "id": "1e470dd8",
   "metadata": {
    "editable": false,
    "execution": {
     "iopub.execute_input": "2025-07-17T02:28:33.129873Z",
     "iopub.status.busy": "2025-07-17T02:28:33.129563Z",
     "iopub.status.idle": "2025-07-17T02:28:33.682370Z",
     "shell.execute_reply": "2025-07-17T02:28:33.681386Z"
    },
    "papermill": {
     "duration": 0.565782,
     "end_time": "2025-07-17T02:28:33.684309",
     "exception": false,
     "start_time": "2025-07-17T02:28:33.118527",
     "status": "completed"
    },
    "tags": []
   },
   "outputs": [
    {
     "data": {
      "text/plain": [
       "<Axes: >"
      ]
     },
     "execution_count": 19,
     "metadata": {},
     "output_type": "execute_result"
    },
    {
     "data": {
      "image/png": "[encoded data removed]",
      "text/plain": [
       "<Figure size 1400x1200 with 2 Axes>"
      ]
     },
     "metadata": {},
     "output_type": "display_data"
    }
   ],
   "source": [
    "plt.figure(figsize=(14,12))\n",
    "correlation = numeric_.corr()\n",
    "sns.heatmap(correlation, mask = correlation <0.8, linewidth=0.5, cmap='Blues')"
   ]
  },
  {
   "cell_type": "code",
   "execution_count": 20,
   "id": "a99db8c3",
   "metadata": {
    "editable": false,
    "execution": {
     "iopub.execute_input": "2025-07-17T02:28:33.707677Z",
     "iopub.status.busy": "2025-07-17T02:28:33.707333Z",
     "iopub.status.idle": "2025-07-17T02:28:33.723060Z",
     "shell.execute_reply": "2025-07-17T02:28:33.722159Z"
    },
    "papermill": {
     "duration": 0.029229,
     "end_time": "2025-07-17T02:28:33.724562",
     "exception": false,
     "start_time": "2025-07-17T02:28:33.695333",
     "status": "completed"
    },
    "tags": []
   },
   "outputs": [
    {
     "data": {
      "text/html": [
       "<div>\n",
       "<style scoped>\n",
       "    .dataframe tbody tr th:only-of-type {\n",
       "        vertical-align: middle;\n",
       "    }\n",
       "\n",
       "    .dataframe tbody tr th {\n",
       "        vertical-align: top;\n",
       "    }\n",
       "\n",
       "    .dataframe thead th {\n",
       "        text-align: right;\n",
       "    }\n",
       "</style>\n",
       "<table border=\"1\" class=\"dataframe\">\n",
       "  <thead>\n",
       "    <tr style=\"text-align: right;\">\n",
       "      <th></th>\n",
       "      <th>Transported</th>\n",
       "    </tr>\n",
       "  </thead>\n",
       "  <tbody>\n",
       "    <tr>\n",
       "      <th>Transported</th>\n",
       "      <td>1.000000</td>\n",
       "    </tr>\n",
       "    <tr>\n",
       "      <th>CryoSleep</th>\n",
       "      <td>0.460132</td>\n",
       "    </tr>\n",
       "    <tr>\n",
       "      <th>FoodCourt</th>\n",
       "      <td>0.045583</td>\n",
       "    </tr>\n",
       "    <tr>\n",
       "      <th>ShoppingMall</th>\n",
       "      <td>0.009391</td>\n",
       "    </tr>\n",
       "    <tr>\n",
       "      <th>VIP</th>\n",
       "      <td>-0.037261</td>\n",
       "    </tr>\n",
       "    <tr>\n",
       "      <th>Age</th>\n",
       "      <td>-0.074233</td>\n",
       "    </tr>\n",
       "    <tr>\n",
       "      <th>VRDeck</th>\n",
       "      <td>-0.204874</td>\n",
       "    </tr>\n",
       "    <tr>\n",
       "      <th>Spa</th>\n",
       "      <td>-0.218545</td>\n",
       "    </tr>\n",
       "    <tr>\n",
       "      <th>RoomService</th>\n",
       "      <td>-0.241124</td>\n",
       "    </tr>\n",
       "  </tbody>\n",
       "</table>\n",
       "</div>"
      ],
      "text/plain": [
       "              Transported\n",
       "Transported      1.000000\n",
       "CryoSleep        0.460132\n",
       "FoodCourt        0.045583\n",
       "ShoppingMall     0.009391\n",
       "VIP             -0.037261\n",
       "Age             -0.074233\n",
       "VRDeck          -0.204874\n",
       "Spa             -0.218545\n",
       "RoomService     -0.241124"
      ]
     },
     "execution_count": 20,
     "metadata": {},
     "output_type": "execute_result"
    }
   ],
   "source": [
    "numeric_train = train.select_dtypes(exclude=['object'])\n",
    "correlation = numeric_train.corr()\n",
    "correlation[['Transported']].sort_values(['Transported'], ascending=False)"
   ]
  },
  {
   "cell_type": "code",
   "execution_count": 21,
   "id": "ba2a7fca",
   "metadata": {
    "editable": false,
    "execution": {
     "iopub.execute_input": "2025-07-17T02:28:33.747397Z",
     "iopub.status.busy": "2025-07-17T02:28:33.746939Z",
     "iopub.status.idle": "2025-07-17T02:28:33.763158Z",
     "shell.execute_reply": "2025-07-17T02:28:33.762351Z"
    },
    "papermill": {
     "duration": 0.02943,
     "end_time": "2025-07-17T02:28:33.764621",
     "exception": false,
     "start_time": "2025-07-17T02:28:33.735191",
     "status": "completed"
    },
    "tags": []
   },
   "outputs": [
    {
     "data": {
      "text/plain": [
       "<bound method NDFrame.head of      PassengerId HomePlanet  CryoSleep     Cabin    Destination   Age    VIP  \\\n",
       "0        0001_01     Europa      False     B/0/P    TRAPPIST-1e  39.0  False   \n",
       "1        0002_01      Earth      False     F/0/S    TRAPPIST-1e  24.0  False   \n",
       "2        0003_01     Europa      False     A/0/S    TRAPPIST-1e  58.0   True   \n",
       "3        0003_02     Europa      False     A/0/S    TRAPPIST-1e  33.0  False   \n",
       "4        0004_01      Earth      False     F/1/S    TRAPPIST-1e  16.0  False   \n",
       "...          ...        ...        ...       ...            ...   ...    ...   \n",
       "4272     9266_02      Earth       True  G/1496/S    TRAPPIST-1e  34.0  False   \n",
       "4273     9269_01      Earth      False   G/160/P    TRAPPIST-1e  42.0  False   \n",
       "4274     9271_01       Mars       True   D/296/P    55 Cancri e  26.0  False   \n",
       "4275     9273_01     Europa      False   D/297/P    TRAPPIST-1e  26.0  False   \n",
       "4276     9277_01      Earth       True  G/1498/S  PSO J318.5-22  43.0  False   \n",
       "\n",
       "      RoomService  FoodCourt  ShoppingMall     Spa  VRDeck               Name  \\\n",
       "0             0.0        0.0           0.0     0.0     0.0    Maham Ofracculy   \n",
       "1           109.0        9.0          25.0   549.0    44.0       Juanna Vines   \n",
       "2            43.0     3576.0           0.0  6715.0    49.0      Altark Susent   \n",
       "3             0.0     1283.0         371.0  3329.0   193.0       Solam Susent   \n",
       "4           303.0       70.0         151.0   565.0     2.0  Willy Santantines   \n",
       "...           ...        ...           ...     ...     ...                ...   \n",
       "4272          0.0        0.0           0.0     0.0     0.0        Jeron Peter   \n",
       "4273          0.0      847.0          17.0    10.0   144.0      Matty Scheron   \n",
       "4274          0.0        0.0           0.0     0.0     0.0        Jayrin Pore   \n",
       "4275          0.0     2680.0           0.0     0.0   523.0     Kitakan Conale   \n",
       "4276          0.0        0.0           0.0     0.0     0.0   Lilace Leonzaley   \n",
       "\n",
       "     Idgrp PassengerId of Idgrp  \n",
       "0       01                 0001  \n",
       "1       01                 0002  \n",
       "2       01                 0003  \n",
       "3       02                 0003  \n",
       "4       01                 0004  \n",
       "...    ...                  ...  \n",
       "4272    02                 9266  \n",
       "4273    01                 9269  \n",
       "4274    01                 9271  \n",
       "4275    01                 9273  \n",
       "4276    01                 9277  \n",
       "\n",
       "[12970 rows x 15 columns]>"
      ]
     },
     "execution_count": 21,
     "metadata": {},
     "output_type": "execute_result"
    }
   ],
   "source": [
    "X.head"
   ]
  },
  {
   "cell_type": "code",
   "execution_count": 22,
   "id": "338407a1",
   "metadata": {
    "execution": {
     "iopub.execute_input": "2025-07-17T02:28:33.787316Z",
     "iopub.status.busy": "2025-07-17T02:28:33.786918Z",
     "iopub.status.idle": "2025-07-17T02:28:33.795631Z",
     "shell.execute_reply": "2025-07-17T02:28:33.794701Z"
    },
    "papermill": {
     "duration": 0.021881,
     "end_time": "2025-07-17T02:28:33.797039",
     "exception": false,
     "start_time": "2025-07-17T02:28:33.775158",
     "status": "completed"
    },
    "tags": []
   },
   "outputs": [],
   "source": [
    "# 의미있는 조합 특성들\n",
    "def create_meaningful_features(df):\n",
    "    # 총 서비스 이용 개수\n",
    "    df['total_services'] = (df['RoomService_bin'] + df['FoodCourt_bin'] + \n",
    "                           df['ShoppingMall_bin'] + df['Spa_bin'] + df['VRDeck_bin'])\n",
    "    \n",
    "    # 엔터테인먼트 vs 생활 서비스\n",
    "    df['entertainment'] = df['VRDeck_bin'] + df['Spa_bin']\n",
    "    df['daily_services'] = df['RoomService_bin'] + df['FoodCourt_bin']\n",
    "    \n",
    "    # 프리미엄 이용 패턴\n",
    "    df['premium_user'] = (df['VIP'] * df['total_services']).astype(int)\n",
    "\n",
    "    # 비선형 특성 추가\n",
    "    df['Age_squared'] = df['Age'] ** 2\n",
    "    df['Age_cubed'] = df['Age'] ** 3\n",
    "    df['Age_log'] = np.log1p(df['Age'])\n",
    "\n",
    "    # 구간별 상호작용\n",
    "    df['Age_VIP_interaction'] = df['Age'] * df['VIP']\n",
    "    df['Age_Services_interaction'] = df['Age'] * df['total_services']\n",
    "\n",
    "    df[\"GroupSize\"] = df[\"Idgrp\"].map(df[\"Idgrp\"].value_counts())\n",
    "    # 더 복잡한 상호작용 특성\n",
    "    df['Age_Group_Service_pattern'] = df['Age'] * df['GroupSize'] * df['total_services']\n",
    "\n",
    "    # 원본 연속형 서비스 데이터도 함께 활용\n",
    "    df['Age_RoomService_ratio'] = df['Age'] / (df['RoomService'] + 1)\n",
    "\n",
    "    \n",
    "    \n",
    "\n",
    "    # 1. Cabin 구조 분리\n",
    "    \n",
    "\n",
    "    # 3. 조합 피처 만들기\n",
    "    df[\"Deck_Side\"] = df[\"Deck\"] + \"_\" + df[\"Side\"]\n",
    "    # 스플라인 기법 적용\n",
    "    from sklearn.preprocessing import SplineTransformer\n",
    "    spline = SplineTransformer(n_knots=4, degree=3)\n",
    "    age_spline = spline.fit_transform(df[['Age']])\n",
    "    \n",
    "    return df\n",
    "\n"
   ]
  },
  {
   "cell_type": "code",
   "execution_count": 23,
   "id": "730bbc17",
   "metadata": {
    "execution": {
     "iopub.execute_input": "2025-07-17T02:28:33.820722Z",
     "iopub.status.busy": "2025-07-17T02:28:33.820371Z",
     "iopub.status.idle": "2025-07-17T02:28:33.902796Z",
     "shell.execute_reply": "2025-07-17T02:28:33.901697Z"
    },
    "papermill": {
     "duration": 0.096721,
     "end_time": "2025-07-17T02:28:33.904805",
     "exception": false,
     "start_time": "2025-07-17T02:28:33.808084",
     "status": "completed"
    },
    "tags": []
   },
   "outputs": [],
   "source": [
    "# 데이터 전처리 단계에서 구분\n",
    "def preprocess_data(df):\n",
    "    # 1. 원본 데이터 복사 보존\n",
    "    df_processed = df.copy()\n",
    "    \n",
    "    # 2. 이진 변수 생성\n",
    "    service_cols = ['RoomService', 'FoodCourt', 'ShoppingMall', 'Spa', 'VRDeck']\n",
    "    for col in service_cols:\n",
    "        df_processed[f'{col}_bin'] = (df_processed[col] > 0).astype(int)\n",
    "\n",
    "    df_processed[\"Idgrp\"] = df_processed[\"PassengerId\"].apply(lambda x: x.split(\"_\")[1])\n",
    "    df_processed[[\"Deck\", \"Side\"]] = df_processed[\"Cabin\"].str.split(\"/\", expand=True).iloc[:, [0, 2]]\n",
    "    # 3. 의미있는 특성 생성\n",
    "    df_processed = create_meaningful_features(df_processed)\n",
    "    \n",
    "    # 4. 최종 모델링을 위한 특성 선택\n",
    "    # 원본 연속형 변수들은 특정 특성 생성에만 사용하고 제거\n",
    "    features_to_drop = [\"PassengerId\",'RoomService', 'FoodCourt', 'ShoppingMall', 'Spa', 'VRDeck','Name','Age','Cabin','PassengerId of Idgrp','Idgrp']\n",
    "    df_final = df_processed.drop(columns=features_to_drop)\n",
    "    \n",
    "    return df_final\n",
    "\n",
    "X = preprocess_data(X)"
   ]
  },
  {
   "cell_type": "code",
   "execution_count": 24,
   "id": "475530cf",
   "metadata": {
    "execution": {
     "iopub.execute_input": "2025-07-17T02:28:33.928805Z",
     "iopub.status.busy": "2025-07-17T02:28:33.927889Z",
     "iopub.status.idle": "2025-07-17T02:28:33.945344Z",
     "shell.execute_reply": "2025-07-17T02:28:33.944142Z"
    },
    "papermill": {
     "duration": 0.031376,
     "end_time": "2025-07-17T02:28:33.947257",
     "exception": false,
     "start_time": "2025-07-17T02:28:33.915881",
     "status": "completed"
    },
    "tags": []
   },
   "outputs": [
    {
     "name": "stdout",
     "output_type": "stream",
     "text": [
      "<class 'pandas.core.frame.DataFrame'>\n",
      "Index: 12970 entries, 0 to 4276\n",
      "Data columns (total 24 columns):\n",
      " #   Column                     Non-Null Count  Dtype  \n",
      "---  ------                     --------------  -----  \n",
      " 0   HomePlanet                 12970 non-null  object \n",
      " 1   CryoSleep                  12970 non-null  bool   \n",
      " 2   Destination                12970 non-null  object \n",
      " 3   VIP                        12970 non-null  bool   \n",
      " 4   RoomService_bin            12970 non-null  int64  \n",
      " 5   FoodCourt_bin              12970 non-null  int64  \n",
      " 6   ShoppingMall_bin           12970 non-null  int64  \n",
      " 7   Spa_bin                    12970 non-null  int64  \n",
      " 8   VRDeck_bin                 12970 non-null  int64  \n",
      " 9   Deck                       12970 non-null  object \n",
      " 10  Side                       12970 non-null  object \n",
      " 11  total_services             12970 non-null  int64  \n",
      " 12  entertainment              12970 non-null  int64  \n",
      " 13  daily_services             12970 non-null  int64  \n",
      " 14  premium_user               12970 non-null  int64  \n",
      " 15  Age_squared                12970 non-null  float64\n",
      " 16  Age_cubed                  12970 non-null  float64\n",
      " 17  Age_log                    12970 non-null  float64\n",
      " 18  Age_VIP_interaction        12970 non-null  float64\n",
      " 19  Age_Services_interaction   12970 non-null  float64\n",
      " 20  GroupSize                  12970 non-null  int64  \n",
      " 21  Age_Group_Service_pattern  12970 non-null  float64\n",
      " 22  Age_RoomService_ratio      12970 non-null  float64\n",
      " 23  Deck_Side                  12970 non-null  object \n",
      "dtypes: bool(2), float64(7), int64(10), object(5)\n",
      "memory usage: 2.3+ MB\n"
     ]
    }
   ],
   "source": [
    "X.info()"
   ]
  },
  {
   "cell_type": "code",
   "execution_count": 25,
   "id": "c7bd8ce0",
   "metadata": {
    "execution": {
     "iopub.execute_input": "2025-07-17T02:28:33.971314Z",
     "iopub.status.busy": "2025-07-17T02:28:33.970378Z",
     "iopub.status.idle": "2025-07-17T02:28:33.998653Z",
     "shell.execute_reply": "2025-07-17T02:28:33.997704Z"
    },
    "papermill": {
     "duration": 0.041801,
     "end_time": "2025-07-17T02:28:34.000440",
     "exception": false,
     "start_time": "2025-07-17T02:28:33.958639",
     "status": "completed"
    },
    "tags": []
   },
   "outputs": [],
   "source": [
    "# 1. 인코딩할 컬럼만 지정\n",
    "cols_to_encode = ['HomePlanet', 'Destination','Deck','Side','Deck_Side']\n",
    "\n",
    "# 2. 해당 컬럼만 원핫 인코딩\n",
    "X_encoded = pd.get_dummies(X[cols_to_encode], drop_first=True)\n",
    "\n",
    "# 3. 원본에서 해당 컬럼 제거\n",
    "X_rest = X.drop(columns=cols_to_encode)\n",
    "\n",
    "# 4. 합치기\n",
    "X = pd.concat([X_rest, X_encoded], axis=1)"
   ]
  },
  {
   "cell_type": "code",
   "execution_count": 26,
   "id": "b2df112d",
   "metadata": {
    "execution": {
     "iopub.execute_input": "2025-07-17T02:28:34.023064Z",
     "iopub.status.busy": "2025-07-17T02:28:34.022726Z",
     "iopub.status.idle": "2025-07-17T02:28:34.039300Z",
     "shell.execute_reply": "2025-07-17T02:28:34.038019Z"
    },
    "papermill": {
     "duration": 0.029982,
     "end_time": "2025-07-17T02:28:34.041033",
     "exception": false,
     "start_time": "2025-07-17T02:28:34.011051",
     "status": "completed"
    },
    "tags": []
   },
   "outputs": [
    {
     "name": "stdout",
     "output_type": "stream",
     "text": [
      "<class 'pandas.core.frame.DataFrame'>\n",
      "Index: 12970 entries, 0 to 4276\n",
      "Data columns (total 46 columns):\n",
      " #   Column                     Non-Null Count  Dtype  \n",
      "---  ------                     --------------  -----  \n",
      " 0   CryoSleep                  12970 non-null  bool   \n",
      " 1   VIP                        12970 non-null  bool   \n",
      " 2   RoomService_bin            12970 non-null  int64  \n",
      " 3   FoodCourt_bin              12970 non-null  int64  \n",
      " 4   ShoppingMall_bin           12970 non-null  int64  \n",
      " 5   Spa_bin                    12970 non-null  int64  \n",
      " 6   VRDeck_bin                 12970 non-null  int64  \n",
      " 7   total_services             12970 non-null  int64  \n",
      " 8   entertainment              12970 non-null  int64  \n",
      " 9   daily_services             12970 non-null  int64  \n",
      " 10  premium_user               12970 non-null  int64  \n",
      " 11  Age_squared                12970 non-null  float64\n",
      " 12  Age_cubed                  12970 non-null  float64\n",
      " 13  Age_log                    12970 non-null  float64\n",
      " 14  Age_VIP_interaction        12970 non-null  float64\n",
      " 15  Age_Services_interaction   12970 non-null  float64\n",
      " 16  GroupSize                  12970 non-null  int64  \n",
      " 17  Age_Group_Service_pattern  12970 non-null  float64\n",
      " 18  Age_RoomService_ratio      12970 non-null  float64\n",
      " 19  HomePlanet_Europa          12970 non-null  bool   \n",
      " 20  HomePlanet_Mars            12970 non-null  bool   \n",
      " 21  Destination_PSO J318.5-22  12970 non-null  bool   \n",
      " 22  Destination_TRAPPIST-1e    12970 non-null  bool   \n",
      " 23  Deck_B                     12970 non-null  bool   \n",
      " 24  Deck_C                     12970 non-null  bool   \n",
      " 25  Deck_D                     12970 non-null  bool   \n",
      " 26  Deck_E                     12970 non-null  bool   \n",
      " 27  Deck_F                     12970 non-null  bool   \n",
      " 28  Deck_G                     12970 non-null  bool   \n",
      " 29  Deck_T                     12970 non-null  bool   \n",
      " 30  Side_S                     12970 non-null  bool   \n",
      " 31  Deck_Side_A_S              12970 non-null  bool   \n",
      " 32  Deck_Side_B_P              12970 non-null  bool   \n",
      " 33  Deck_Side_B_S              12970 non-null  bool   \n",
      " 34  Deck_Side_C_P              12970 non-null  bool   \n",
      " 35  Deck_Side_C_S              12970 non-null  bool   \n",
      " 36  Deck_Side_D_P              12970 non-null  bool   \n",
      " 37  Deck_Side_D_S              12970 non-null  bool   \n",
      " 38  Deck_Side_E_P              12970 non-null  bool   \n",
      " 39  Deck_Side_E_S              12970 non-null  bool   \n",
      " 40  Deck_Side_F_P              12970 non-null  bool   \n",
      " 41  Deck_Side_F_S              12970 non-null  bool   \n",
      " 42  Deck_Side_G_P              12970 non-null  bool   \n",
      " 43  Deck_Side_G_S              12970 non-null  bool   \n",
      " 44  Deck_Side_T_P              12970 non-null  bool   \n",
      " 45  Deck_Side_T_S              12970 non-null  bool   \n",
      "dtypes: bool(29), float64(7), int64(10)\n",
      "memory usage: 2.1 MB\n"
     ]
    }
   ],
   "source": [
    "X.info()"
   ]
  },
  {
   "cell_type": "code",
   "execution_count": 27,
   "id": "e280a96c",
   "metadata": {
    "execution": {
     "iopub.execute_input": "2025-07-17T02:28:34.064716Z",
     "iopub.status.busy": "2025-07-17T02:28:34.064386Z",
     "iopub.status.idle": "2025-07-17T02:28:34.072372Z",
     "shell.execute_reply": "2025-07-17T02:28:34.071422Z"
    },
    "papermill": {
     "duration": 0.021678,
     "end_time": "2025-07-17T02:28:34.074143",
     "exception": false,
     "start_time": "2025-07-17T02:28:34.052465",
     "status": "completed"
    },
    "tags": []
   },
   "outputs": [],
   "source": [
    "# 제거해야 할 특성들\n",
    "redundant_features = [\n",
    "    # Deck_Side 조합들 (모두 제거)\n",
    "    'Deck_Side_A_S', 'Deck_Side_B_P', 'Deck_Side_B_S', \n",
    "    'Deck_Side_C_P', 'Deck_Side_C_S', 'Deck_Side_D_P', \n",
    "    'Deck_Side_D_S', 'Deck_Side_E_P', 'Deck_Side_E_S',\n",
    "    'Deck_Side_F_P', 'Deck_Side_F_S', 'Deck_Side_G_P',\n",
    "    'Deck_Side_G_S', 'Deck_Side_T_P', 'Deck_Side_T_S',\n",
    "    \n",
    "    # 하나의 Side 정보만 남기기 (Side_S만 유지, Side_P는 제거)\n",
    "    # 또는 Deck 중 하나 제거 (예: Deck_T는 특수 구역이므로 유지)\n",
    "]\n",
    "\n",
    "# 정리된 특성 세트\n",
    "clean_features = [col for col in X.columns if col not in redundant_features]\n",
    "X = X[clean_features]"
   ]
  },
  {
   "cell_type": "code",
   "execution_count": 28,
   "id": "376c58b7",
   "metadata": {
    "execution": {
     "iopub.execute_input": "2025-07-17T02:28:34.098181Z",
     "iopub.status.busy": "2025-07-17T02:28:34.097798Z",
     "iopub.status.idle": "2025-07-17T02:28:34.136179Z",
     "shell.execute_reply": "2025-07-17T02:28:34.135179Z"
    },
    "papermill": {
     "duration": 0.052431,
     "end_time": "2025-07-17T02:28:34.138029",
     "exception": false,
     "start_time": "2025-07-17T02:28:34.085598",
     "status": "completed"
    },
    "tags": []
   },
   "outputs": [],
   "source": [
    "# PCA로 Deck 정보 압축\n",
    "from sklearn.decomposition import PCA\n",
    "deck_features = ['Deck_B', 'Deck_C', 'Deck_D', 'Deck_E', 'Deck_F', 'Deck_G', 'Deck_T']\n",
    "pca = PCA(n_components=3)  # 7개 → 3개로 압축\n",
    "deck_pca = pca.fit_transform(X[deck_features])"
   ]
  },
  {
   "cell_type": "code",
   "execution_count": 29,
   "id": "658c2f9e",
   "metadata": {
    "execution": {
     "iopub.execute_input": "2025-07-17T02:28:34.162593Z",
     "iopub.status.busy": "2025-07-17T02:28:34.161493Z",
     "iopub.status.idle": "2025-07-17T02:28:34.170943Z",
     "shell.execute_reply": "2025-07-17T02:28:34.169836Z"
    },
    "papermill": {
     "duration": 0.023356,
     "end_time": "2025-07-17T02:28:34.172838",
     "exception": false,
     "start_time": "2025-07-17T02:28:34.149482",
     "status": "completed"
    },
    "tags": []
   },
   "outputs": [],
   "source": [
    "# deck_pca는 넘파이 배열이므로 → DataFrame으로 변환\n",
    "deck_pca_df = pd.DataFrame(deck_pca, columns=['DeckPCA1', 'DeckPCA2', 'DeckPCA3'], index=X.index)\n",
    "\n",
    "# 기존 deck 관련 컬럼 제거 (선택 사항)\n",
    "X = X.drop(columns=deck_features)\n",
    "\n",
    "# PCA 결과 병합\n",
    "X = pd.concat([X, deck_pca_df], axis=1)"
   ]
  },
  {
   "cell_type": "code",
   "execution_count": 30,
   "id": "a0bb195e",
   "metadata": {
    "execution": {
     "iopub.execute_input": "2025-07-17T02:28:34.203147Z",
     "iopub.status.busy": "2025-07-17T02:28:34.202071Z",
     "iopub.status.idle": "2025-07-17T02:28:34.216895Z",
     "shell.execute_reply": "2025-07-17T02:28:34.215930Z"
    },
    "papermill": {
     "duration": 0.029155,
     "end_time": "2025-07-17T02:28:34.219003",
     "exception": false,
     "start_time": "2025-07-17T02:28:34.189848",
     "status": "completed"
    },
    "tags": []
   },
   "outputs": [
    {
     "name": "stdout",
     "output_type": "stream",
     "text": [
      "<class 'pandas.core.frame.DataFrame'>\n",
      "Index: 12970 entries, 0 to 4276\n",
      "Data columns (total 27 columns):\n",
      " #   Column                     Non-Null Count  Dtype  \n",
      "---  ------                     --------------  -----  \n",
      " 0   CryoSleep                  12970 non-null  bool   \n",
      " 1   VIP                        12970 non-null  bool   \n",
      " 2   RoomService_bin            12970 non-null  int64  \n",
      " 3   FoodCourt_bin              12970 non-null  int64  \n",
      " 4   ShoppingMall_bin           12970 non-null  int64  \n",
      " 5   Spa_bin                    12970 non-null  int64  \n",
      " 6   VRDeck_bin                 12970 non-null  int64  \n",
      " 7   total_services             12970 non-null  int64  \n",
      " 8   entertainment              12970 non-null  int64  \n",
      " 9   daily_services             12970 non-null  int64  \n",
      " 10  premium_user               12970 non-null  int64  \n",
      " 11  Age_squared                12970 non-null  float64\n",
      " 12  Age_cubed                  12970 non-null  float64\n",
      " 13  Age_log                    12970 non-null  float64\n",
      " 14  Age_VIP_interaction        12970 non-null  float64\n",
      " 15  Age_Services_interaction   12970 non-null  float64\n",
      " 16  GroupSize                  12970 non-null  int64  \n",
      " 17  Age_Group_Service_pattern  12970 non-null  float64\n",
      " 18  Age_RoomService_ratio      12970 non-null  float64\n",
      " 19  HomePlanet_Europa          12970 non-null  bool   \n",
      " 20  HomePlanet_Mars            12970 non-null  bool   \n",
      " 21  Destination_PSO J318.5-22  12970 non-null  bool   \n",
      " 22  Destination_TRAPPIST-1e    12970 non-null  bool   \n",
      " 23  Side_S                     12970 non-null  bool   \n",
      " 24  DeckPCA1                   12970 non-null  float64\n",
      " 25  DeckPCA2                   12970 non-null  float64\n",
      " 26  DeckPCA3                   12970 non-null  float64\n",
      "dtypes: bool(7), float64(10), int64(10)\n",
      "memory usage: 2.2 MB\n"
     ]
    }
   ],
   "source": [
    "X.info()"
   ]
  },
  {
   "cell_type": "code",
   "execution_count": 31,
   "id": "7295c85c",
   "metadata": {
    "editable": false,
    "execution": {
     "iopub.execute_input": "2025-07-17T02:28:34.244438Z",
     "iopub.status.busy": "2025-07-17T02:28:34.243400Z",
     "iopub.status.idle": "2025-07-17T02:28:34.257729Z",
     "shell.execute_reply": "2025-07-17T02:28:34.256542Z"
    },
    "papermill": {
     "duration": 0.028894,
     "end_time": "2025-07-17T02:28:34.259415",
     "exception": false,
     "start_time": "2025-07-17T02:28:34.230521",
     "status": "completed"
    },
    "tags": []
   },
   "outputs": [
    {
     "name": "stdout",
     "output_type": "stream",
     "text": [
      "<class 'pandas.core.frame.DataFrame'>\n",
      "RangeIndex: 8693 entries, 0 to 8692\n",
      "Data columns (total 14 columns):\n",
      " #   Column        Non-Null Count  Dtype  \n",
      "---  ------        --------------  -----  \n",
      " 0   PassengerId   8693 non-null   object \n",
      " 1   HomePlanet    8693 non-null   object \n",
      " 2   CryoSleep     8693 non-null   bool   \n",
      " 3   Cabin         8693 non-null   object \n",
      " 4   Destination   8693 non-null   object \n",
      " 5   Age           8693 non-null   float64\n",
      " 6   VIP           8693 non-null   bool   \n",
      " 7   RoomService   8693 non-null   float64\n",
      " 8   FoodCourt     8693 non-null   float64\n",
      " 9   ShoppingMall  8693 non-null   float64\n",
      " 10  Spa           8693 non-null   float64\n",
      " 11  VRDeck        8693 non-null   float64\n",
      " 12  Name          8693 non-null   object \n",
      " 13  Transported   8693 non-null   bool   \n",
      "dtypes: bool(3), float64(6), object(5)\n",
      "memory usage: 772.7+ KB\n"
     ]
    }
   ],
   "source": [
    "train.info()"
   ]
  },
  {
   "cell_type": "code",
   "execution_count": 32,
   "id": "7e6f3490",
   "metadata": {
    "editable": false,
    "execution": {
     "iopub.execute_input": "2025-07-17T02:28:34.282768Z",
     "iopub.status.busy": "2025-07-17T02:28:34.282420Z",
     "iopub.status.idle": "2025-07-17T02:28:34.296382Z",
     "shell.execute_reply": "2025-07-17T02:28:34.295279Z"
    },
    "papermill": {
     "duration": 0.027763,
     "end_time": "2025-07-17T02:28:34.297969",
     "exception": false,
     "start_time": "2025-07-17T02:28:34.270206",
     "status": "completed"
    },
    "tags": []
   },
   "outputs": [
    {
     "name": "stdout",
     "output_type": "stream",
     "text": [
      "<class 'pandas.core.frame.DataFrame'>\n",
      "RangeIndex: 4277 entries, 0 to 4276\n",
      "Data columns (total 13 columns):\n",
      " #   Column        Non-Null Count  Dtype  \n",
      "---  ------        --------------  -----  \n",
      " 0   PassengerId   4277 non-null   object \n",
      " 1   HomePlanet    4277 non-null   object \n",
      " 2   CryoSleep     4277 non-null   bool   \n",
      " 3   Cabin         4277 non-null   object \n",
      " 4   Destination   4277 non-null   object \n",
      " 5   Age           4277 non-null   float64\n",
      " 6   VIP           4277 non-null   bool   \n",
      " 7   RoomService   4277 non-null   float64\n",
      " 8   FoodCourt     4277 non-null   float64\n",
      " 9   ShoppingMall  4277 non-null   float64\n",
      " 10  Spa           4277 non-null   float64\n",
      " 11  VRDeck        4277 non-null   float64\n",
      " 12  Name          4277 non-null   object \n",
      "dtypes: bool(2), float64(6), object(5)\n",
      "memory usage: 376.0+ KB\n"
     ]
    }
   ],
   "source": [
    "test.info()"
   ]
  },
  {
   "cell_type": "code",
   "execution_count": 33,
   "id": "0564f4b7",
   "metadata": {
    "editable": false,
    "execution": {
     "iopub.execute_input": "2025-07-17T02:28:34.323604Z",
     "iopub.status.busy": "2025-07-17T02:28:34.323289Z",
     "iopub.status.idle": "2025-07-17T02:28:34.327729Z",
     "shell.execute_reply": "2025-07-17T02:28:34.326900Z"
    },
    "papermill": {
     "duration": 0.018264,
     "end_time": "2025-07-17T02:28:34.329101",
     "exception": false,
     "start_time": "2025-07-17T02:28:34.310837",
     "status": "completed"
    },
    "tags": []
   },
   "outputs": [],
   "source": [
    "n_test = len(test)\n",
    "n_train = len(train)"
   ]
  },
  {
   "cell_type": "code",
   "execution_count": 34,
   "id": "765afd58",
   "metadata": {
    "editable": false,
    "execution": {
     "iopub.execute_input": "2025-07-17T02:28:34.352954Z",
     "iopub.status.busy": "2025-07-17T02:28:34.352677Z",
     "iopub.status.idle": "2025-07-17T02:28:34.359482Z",
     "shell.execute_reply": "2025-07-17T02:28:34.358570Z"
    },
    "papermill": {
     "duration": 0.020618,
     "end_time": "2025-07-17T02:28:34.361046",
     "exception": false,
     "start_time": "2025-07-17T02:28:34.340428",
     "status": "completed"
    },
    "tags": []
   },
   "outputs": [],
   "source": [
    "X_train = X.iloc[:n_train].reset_index(drop=True)\n",
    "X_test = X.iloc[n_train:].reset_index(drop=True)"
   ]
  },
  {
   "cell_type": "code",
   "execution_count": 35,
   "id": "232eb938",
   "metadata": {
    "execution": {
     "iopub.execute_input": "2025-07-17T02:28:34.384969Z",
     "iopub.status.busy": "2025-07-17T02:28:34.384681Z",
     "iopub.status.idle": "2025-07-17T02:28:34.396215Z",
     "shell.execute_reply": "2025-07-17T02:28:34.395107Z"
    },
    "papermill": {
     "duration": 0.025592,
     "end_time": "2025-07-17T02:28:34.397642",
     "exception": false,
     "start_time": "2025-07-17T02:28:34.372050",
     "status": "completed"
    },
    "tags": []
   },
   "outputs": [
    {
     "name": "stdout",
     "output_type": "stream",
     "text": [
      "<class 'pandas.core.frame.DataFrame'>\n",
      "RangeIndex: 8693 entries, 0 to 8692\n",
      "Data columns (total 27 columns):\n",
      " #   Column                     Non-Null Count  Dtype  \n",
      "---  ------                     --------------  -----  \n",
      " 0   CryoSleep                  8693 non-null   bool   \n",
      " 1   VIP                        8693 non-null   bool   \n",
      " 2   RoomService_bin            8693 non-null   int64  \n",
      " 3   FoodCourt_bin              8693 non-null   int64  \n",
      " 4   ShoppingMall_bin           8693 non-null   int64  \n",
      " 5   Spa_bin                    8693 non-null   int64  \n",
      " 6   VRDeck_bin                 8693 non-null   int64  \n",
      " 7   total_services             8693 non-null   int64  \n",
      " 8   entertainment              8693 non-null   int64  \n",
      " 9   daily_services             8693 non-null   int64  \n",
      " 10  premium_user               8693 non-null   int64  \n",
      " 11  Age_squared                8693 non-null   float64\n",
      " 12  Age_cubed                  8693 non-null   float64\n",
      " 13  Age_log                    8693 non-null   float64\n",
      " 14  Age_VIP_interaction        8693 non-null   float64\n",
      " 15  Age_Services_interaction   8693 non-null   float64\n",
      " 16  GroupSize                  8693 non-null   int64  \n",
      " 17  Age_Group_Service_pattern  8693 non-null   float64\n",
      " 18  Age_RoomService_ratio      8693 non-null   float64\n",
      " 19  HomePlanet_Europa          8693 non-null   bool   \n",
      " 20  HomePlanet_Mars            8693 non-null   bool   \n",
      " 21  Destination_PSO J318.5-22  8693 non-null   bool   \n",
      " 22  Destination_TRAPPIST-1e    8693 non-null   bool   \n",
      " 23  Side_S                     8693 non-null   bool   \n",
      " 24  DeckPCA1                   8693 non-null   float64\n",
      " 25  DeckPCA2                   8693 non-null   float64\n",
      " 26  DeckPCA3                   8693 non-null   float64\n",
      "dtypes: bool(7), float64(10), int64(10)\n",
      "memory usage: 1.4 MB\n"
     ]
    }
   ],
   "source": [
    "X_train.info()"
   ]
  },
  {
   "cell_type": "code",
   "execution_count": 36,
   "id": "f4916276",
   "metadata": {
    "execution": {
     "iopub.execute_input": "2025-07-17T02:28:34.422556Z",
     "iopub.status.busy": "2025-07-17T02:28:34.422110Z",
     "iopub.status.idle": "2025-07-17T02:28:34.464051Z",
     "shell.execute_reply": "2025-07-17T02:28:34.463029Z"
    },
    "papermill": {
     "duration": 0.056688,
     "end_time": "2025-07-17T02:28:34.465544",
     "exception": false,
     "start_time": "2025-07-17T02:28:34.408856",
     "status": "completed"
    },
    "tags": []
   },
   "outputs": [
    {
     "name": "stderr",
     "output_type": "stream",
     "text": [
      "/usr/local/lib/python3.11/dist-packages/sklearn/utils/validation.py:1143: DataConversionWarning: A column-vector y was passed when a 1d array was expected. Please change the shape of y to (n_samples, ), for example using ravel().\n",
      "  y = column_or_1d(y, warn=True)\n"
     ]
    }
   ],
   "source": [
    "from sklearn.linear_model import LogisticRegression\n",
    "from sklearn.metrics import accuracy_score\n",
    "\n",
    "# 모델 정의 (liblinear: 작은 데이터셋에 적합)\n",
    "model = LogisticRegression(max_iter=1000, solver='liblinear')\n",
    "\n",
    "# 학습\n",
    "model.fit(X_train, y)\n",
    "\n",
    "# 예측\n",
    "logi_y_pred = model.predict(X_test)"
   ]
  },
  {
   "cell_type": "code",
   "execution_count": 37,
   "id": "71652a88",
   "metadata": {
    "execution": {
     "iopub.execute_input": "2025-07-17T02:28:34.489530Z",
     "iopub.status.busy": "2025-07-17T02:28:34.488587Z",
     "iopub.status.idle": "2025-07-17T02:28:34.993428Z",
     "shell.execute_reply": "2025-07-17T02:28:34.992751Z"
    },
    "papermill": {
     "duration": 0.518408,
     "end_time": "2025-07-17T02:28:34.995197",
     "exception": false,
     "start_time": "2025-07-17T02:28:34.476789",
     "status": "completed"
    },
    "tags": []
   },
   "outputs": [],
   "source": [
    "from xgboost import XGBClassifier\n",
    "from sklearn.metrics import accuracy_score\n",
    "\n",
    "# 모델 정의\n",
    "model = XGBClassifier(use_label_encoder=False, eval_metric='logloss', random_state=42)\n",
    "\n",
    "# 학습\n",
    "model.fit(X_train, y)\n",
    "\n",
    "# 예측\n",
    "xgb_y_pred = model.predict(X_test)\n",
    "\n",
    "# 정확도 평가 (필요 시)\n",
    "# accuracy = accuracy_score(y_true, y_pred)"
   ]
  },
  {
   "cell_type": "code",
   "execution_count": 38,
   "id": "3cb6a9bd",
   "metadata": {
    "execution": {
     "iopub.execute_input": "2025-07-17T02:28:35.019254Z",
     "iopub.status.busy": "2025-07-17T02:28:35.018919Z",
     "iopub.status.idle": "2025-07-17T02:28:41.407882Z",
     "shell.execute_reply": "2025-07-17T02:28:41.406667Z"
    },
    "papermill": {
     "duration": 6.402346,
     "end_time": "2025-07-17T02:28:41.409294",
     "exception": false,
     "start_time": "2025-07-17T02:28:35.006948",
     "status": "completed"
    },
    "tags": []
   },
   "outputs": [
    {
     "name": "stderr",
     "output_type": "stream",
     "text": [
      "/usr/local/lib/python3.11/dist-packages/sklearn/preprocessing/_label.py:99: DataConversionWarning: A column-vector y was passed when a 1d array was expected. Please change the shape of y to (n_samples, ), for example using ravel().\n",
      "  y = column_or_1d(y, warn=True)\n",
      "/usr/local/lib/python3.11/dist-packages/sklearn/preprocessing/_label.py:134: DataConversionWarning: A column-vector y was passed when a 1d array was expected. Please change the shape of y to (n_samples, ), for example using ravel().\n",
      "  y = column_or_1d(y, dtype=self.classes_.dtype, warn=True)\n"
     ]
    },
    {
     "name": "stdout",
     "output_type": "stream",
     "text": [
      "[LightGBM] [Warning] Found whitespace in feature_names, replace with underlines\n",
      "[LightGBM] [Info] Number of positive: 4378, number of negative: 4315\n",
      "[LightGBM] [Info] Auto-choosing row-wise multi-threading, the overhead of testing was 0.003370 seconds.\n",
      "You can set `force_row_wise=true` to remove the overhead.\n",
      "And if memory is not enough, you can set `force_col_wise=true`.\n",
      "[LightGBM] [Info] Total Bins 1026\n",
      "[LightGBM] [Info] Number of data points in the train set: 8693, number of used features: 27\n",
      "[LightGBM] [Info] [binary:BoostFromScore]: pavg=0.503624 -> initscore=0.014495\n",
      "[LightGBM] [Info] Start training from score 0.014495\n"
     ]
    }
   ],
   "source": [
    "from lightgbm import LGBMClassifier\n",
    "from sklearn.metrics import accuracy_score\n",
    "\n",
    "# 모델 정의\n",
    "model = LGBMClassifier(random_state=42)\n",
    "\n",
    "# 학습\n",
    "model.fit(X_train, y)\n",
    "\n",
    "# 예측\n",
    "lgb_y_pred = model.predict(X_test)\n",
    "\n",
    "# 정확도 평가 (필요 시)\n",
    "# accuracy = accuracy_score(y_true, y_pred)\n"
   ]
  },
  {
   "cell_type": "code",
   "execution_count": 39,
   "id": "a2d4f608",
   "metadata": {
    "execution": {
     "iopub.execute_input": "2025-07-17T02:28:41.432973Z",
     "iopub.status.busy": "2025-07-17T02:28:41.432424Z",
     "iopub.status.idle": "2025-07-17T02:28:45.720817Z",
     "shell.execute_reply": "2025-07-17T02:28:45.719794Z"
    },
    "papermill": {
     "duration": 4.302128,
     "end_time": "2025-07-17T02:28:45.722655",
     "exception": false,
     "start_time": "2025-07-17T02:28:41.420527",
     "status": "completed"
    },
    "tags": []
   },
   "outputs": [],
   "source": [
    "from catboost import CatBoostClassifier\n",
    "from sklearn.metrics import accuracy_score\n",
    "\n",
    "# 모델 정의\n",
    "cat_model = CatBoostClassifier(verbose=0, random_state=42)\n",
    "\n",
    "# 학습\n",
    "cat_model.fit(X_train, y)\n",
    "\n",
    "# 예측\n",
    "cat_y_pred = cat_model.predict(X_test)\n"
   ]
  },
  {
   "cell_type": "code",
   "execution_count": 40,
   "id": "d5077d48",
   "metadata": {
    "execution": {
     "iopub.execute_input": "2025-07-17T02:28:45.748140Z",
     "iopub.status.busy": "2025-07-17T02:28:45.747795Z",
     "iopub.status.idle": "2025-07-17T02:28:46.143612Z",
     "shell.execute_reply": "2025-07-17T02:28:46.142593Z"
    },
    "papermill": {
     "duration": 0.410304,
     "end_time": "2025-07-17T02:28:46.145351",
     "exception": false,
     "start_time": "2025-07-17T02:28:45.735047",
     "status": "completed"
    },
    "tags": []
   },
   "outputs": [
    {
     "name": "stderr",
     "output_type": "stream",
     "text": [
      "/usr/local/lib/python3.11/dist-packages/sklearn/utils/validation.py:1143: DataConversionWarning: A column-vector y was passed when a 1d array was expected. Please change the shape of y to (n_samples, ), for example using ravel().\n",
      "  y = column_or_1d(y, warn=True)\n",
      "/usr/local/lib/python3.11/dist-packages/sklearn/preprocessing/_label.py:99: DataConversionWarning: A column-vector y was passed when a 1d array was expected. Please change the shape of y to (n_samples, ), for example using ravel().\n",
      "  y = column_or_1d(y, warn=True)\n",
      "/usr/local/lib/python3.11/dist-packages/sklearn/preprocessing/_label.py:134: DataConversionWarning: A column-vector y was passed when a 1d array was expected. Please change the shape of y to (n_samples, ), for example using ravel().\n",
      "  y = column_or_1d(y, dtype=self.classes_.dtype, warn=True)\n"
     ]
    },
    {
     "name": "stdout",
     "output_type": "stream",
     "text": [
      "[LightGBM] [Warning] Found whitespace in feature_names, replace with underlines\n",
      "[LightGBM] [Info] Number of positive: 4378, number of negative: 4315\n",
      "[LightGBM] [Info] Auto-choosing row-wise multi-threading, the overhead of testing was 0.001095 seconds.\n",
      "You can set `force_row_wise=true` to remove the overhead.\n",
      "And if memory is not enough, you can set `force_col_wise=true`.\n",
      "[LightGBM] [Info] Total Bins 1026\n",
      "[LightGBM] [Info] Number of data points in the train set: 8693, number of used features: 27\n",
      "[LightGBM] [Info] [binary:BoostFromScore]: pavg=0.503624 -> initscore=0.014495\n",
      "[LightGBM] [Info] Start training from score 0.014495\n"
     ]
    }
   ],
   "source": [
    "from sklearn.linear_model import LogisticRegression\n",
    "from xgboost import XGBClassifier\n",
    "from lightgbm import LGBMClassifier\n",
    "import numpy as np\n",
    "\n",
    "# 모델 정의\n",
    "logi = LogisticRegression(max_iter=1000, solver='liblinear')\n",
    "xgb = XGBClassifier(use_label_encoder=False, eval_metric='logloss', random_state=42)\n",
    "lgb = LGBMClassifier(random_state=42)\n",
    "\n",
    "# 학습\n",
    "logi.fit(X_train, y)\n",
    "xgb.fit(X_train, y)\n",
    "lgb.fit(X_train, y)\n",
    "\n",
    "# 예측 (확률 기반)\n",
    "logi_pred = logi.predict_proba(X_test)[:,1]\n",
    "xgb_pred = xgb.predict_proba(X_test)[:,1]\n",
    "lgb_pred = lgb.predict_proba(X_test)[:,1]\n",
    "\n",
    "# 블렌딩: 평균\n",
    "blended_prob = (logi_pred + xgb_pred + lgb_pred) / 3\n",
    "\n",
    "# 0.5 기준으로 이진화\n",
    "y_pred_blend = (blended_prob >= 0.5).astype(bool)"
   ]
  },
  {
   "cell_type": "code",
   "execution_count": 41,
   "id": "4d0bd7c8",
   "metadata": {
    "execution": {
     "iopub.execute_input": "2025-07-17T02:28:46.170275Z",
     "iopub.status.busy": "2025-07-17T02:28:46.169906Z",
     "iopub.status.idle": "2025-07-17T02:28:47.623106Z",
     "shell.execute_reply": "2025-07-17T02:28:47.622268Z"
    },
    "papermill": {
     "duration": 1.467801,
     "end_time": "2025-07-17T02:28:47.624818",
     "exception": false,
     "start_time": "2025-07-17T02:28:46.157017",
     "status": "completed"
    },
    "tags": []
   },
   "outputs": [
    {
     "name": "stderr",
     "output_type": "stream",
     "text": [
      "/tmp/ipykernel_14/3635397873.py:8: DataConversionWarning: A column-vector y was passed when a 1d array was expected. Please change the shape of y to (n_samples,), for example using ravel().\n",
      "  rf_model.fit(X_train, y)\n"
     ]
    }
   ],
   "source": [
    "from sklearn.ensemble import RandomForestClassifier\n",
    "from sklearn.metrics import accuracy_score\n",
    "\n",
    "# 모델 정의\n",
    "rf_model = RandomForestClassifier(n_estimators=100, random_state=42)\n",
    "\n",
    "# 학습\n",
    "rf_model.fit(X_train, y)\n",
    "\n",
    "# 예측\n",
    "rf_y_pred = rf_model.predict(X_test)"
   ]
  },
  {
   "cell_type": "code",
   "execution_count": 42,
   "id": "f650f318",
   "metadata": {
    "execution": {
     "iopub.execute_input": "2025-07-17T02:28:47.650005Z",
     "iopub.status.busy": "2025-07-17T02:28:47.649694Z",
     "iopub.status.idle": "2025-07-17T02:28:47.654525Z",
     "shell.execute_reply": "2025-07-17T02:28:47.653702Z"
    },
    "papermill": {
     "duration": 0.018993,
     "end_time": "2025-07-17T02:28:47.655929",
     "exception": false,
     "start_time": "2025-07-17T02:28:47.636936",
     "status": "completed"
    },
    "tags": []
   },
   "outputs": [],
   "source": [
    "submission = pd.DataFrame({\n",
    "    \"PassengerId\": test[\"PassengerId\"],\n",
    "    \"Transported\": logi_y_pred.astype(bool)\n",
    "})"
   ]
  },
  {
   "cell_type": "code",
   "execution_count": 43,
   "id": "ebd150b6",
   "metadata": {
    "execution": {
     "iopub.execute_input": "2025-07-17T02:28:47.681547Z",
     "iopub.status.busy": "2025-07-17T02:28:47.681209Z",
     "iopub.status.idle": "2025-07-17T02:28:47.695026Z",
     "shell.execute_reply": "2025-07-17T02:28:47.694186Z"
    },
    "papermill": {
     "duration": 0.028412,
     "end_time": "2025-07-17T02:28:47.696653",
     "exception": false,
     "start_time": "2025-07-17T02:28:47.668241",
     "status": "completed"
    },
    "tags": []
   },
   "outputs": [],
   "source": [
    "submission.to_csv(\"submission.csv\", index=False)"
   ]
  }
 ],
 "metadata": {
  "kaggle": {
   "accelerator": "none",
   "dataSources": [
    {
     "databundleVersionId": 3220602,
     "sourceId": 34377,
     "sourceType": "competition"
    }
   ],
   "dockerImageVersionId": 31089,
   "isGpuEnabled": false,
   "isInternetEnabled": true,
   "language": "python",
   "sourceType": "notebook"
  },
  "kernelspec": {
   "display_name": "Python 3",
   "language": "python",
   "name": "python3"
  },
  "language_info": {
   "codemirror_mode": {
    "name": "ipython",
    "version": 3
   },
   "file_extension": ".py",
   "mimetype": "text/x-python",
   "name": "python",
   "nbconvert_exporter": "python",
   "pygments_lexer": "ipython3",
   "version": "3.11.13"
  },
  "papermill": {
   "default_parameters": {},
   "duration": 28.854429,
   "end_time": "2025-07-17T02:28:48.829619",
   "environment_variables": {},
   "exception": null,
   "input_path": "__notebook__.ipynb",
   "output_path": "__notebook__.ipynb",
   "parameters": {},
   "start_time": "2025-07-17T02:28:19.975190",
   "version": "2.6.0"
  }
 },
 "nbformat": 4,
 "nbformat_minor": 5
}
